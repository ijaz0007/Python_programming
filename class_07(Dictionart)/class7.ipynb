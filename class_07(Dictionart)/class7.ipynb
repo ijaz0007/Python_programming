{
 "cells": [
  {
   "cell_type": "code",
   "execution_count": 1,
   "metadata": {},
   "outputs": [
    {
     "name": "stdout",
     "output_type": "stream",
     "text": [
      "MSDS\n"
     ]
    }
   ],
   "source": [
    "data : list[str] = [\"Muhammad Aslam\",\"Muhammad Qasim\",\"MSDS\"]\n",
    "print(data[2])"
   ]
  },
  {
   "cell_type": "code",
   "execution_count": 2,
   "metadata": {},
   "outputs": [
    {
     "name": "stdout",
     "output_type": "stream",
     "text": [
      "{1, 2, 3, 7}\n"
     ]
    }
   ],
   "source": [
    "data : set =  {7,1,2,1,1,1,1,3,2}\n",
    "print(data)"
   ]
  },
  {
   "cell_type": "code",
   "execution_count": 3,
   "metadata": {},
   "outputs": [
    {
     "data": {
      "text/plain": [
       "['add',\n",
       " 'clear',\n",
       " 'copy',\n",
       " 'difference',\n",
       " 'difference_update',\n",
       " 'discard',\n",
       " 'intersection',\n",
       " 'intersection_update',\n",
       " 'isdisjoint',\n",
       " 'issubset',\n",
       " 'issuperset',\n",
       " 'pop',\n",
       " 'remove',\n",
       " 'symmetric_difference',\n",
       " 'symmetric_difference_update',\n",
       " 'union',\n",
       " 'update']"
      ]
     },
     "execution_count": 3,
     "metadata": {},
     "output_type": "execute_result"
    }
   ],
   "source": [
    "[i for i in dir(data) if \"__\" not in i]"
   ]
  },
  {
   "cell_type": "code",
   "execution_count": 4,
   "metadata": {},
   "outputs": [
    {
     "ename": "TypeError",
     "evalue": "'set' object is not subscriptable",
     "output_type": "error",
     "traceback": [
      "\u001b[1;31m---------------------------------------------------------------------------\u001b[0m",
      "\u001b[1;31mTypeError\u001b[0m                                 Traceback (most recent call last)",
      "Cell \u001b[1;32mIn[4], line 2\u001b[0m\n\u001b[0;32m      1\u001b[0m data : \u001b[38;5;28mset\u001b[39m \u001b[38;5;241m=\u001b[39m {\u001b[38;5;241m7\u001b[39m,\u001b[38;5;241m1\u001b[39m,\u001b[38;5;241m2\u001b[39m,\u001b[38;5;241m1\u001b[39m,\u001b[38;5;241m1\u001b[39m,\u001b[38;5;241m1\u001b[39m,\u001b[38;5;241m1\u001b[39m,\u001b[38;5;241m3\u001b[39m,\u001b[38;5;241m2\u001b[39m}\n\u001b[1;32m----> 2\u001b[0m \u001b[38;5;28mprint\u001b[39m(\u001b[43mdata\u001b[49m\u001b[43m[\u001b[49m\u001b[38;5;241;43m0\u001b[39;49m\u001b[43m]\u001b[49m)\n",
      "\u001b[1;31mTypeError\u001b[0m: 'set' object is not subscriptable"
     ]
    }
   ],
   "source": [
    "data : set = {7,1,2,1,1,1,1,3,2}\n",
    "print(data[0])"
   ]
  },
  {
   "cell_type": "markdown",
   "metadata": {},
   "source": [
    "# Dictionary\n",
    "* key:value (items)\n",
    "\n",
    "    * key replacement of indexes\n",
    "    * value item\n",
    "    * dict_variable[key]\n",
    "\n",
    "    * dict_variable[new_key] = new_value\n",
    "    * add new value\n",
    "    * update value"
   ]
  },
  {
   "cell_type": "code",
   "execution_count": 5,
   "metadata": {},
   "outputs": [
    {
     "name": "stdout",
     "output_type": "stream",
     "text": [
      "{'education': 'MSDS', 'fname': 'Muhammad Aslam', 'name': 'Muhammad Qasim'}\n"
     ]
    }
   ],
   "source": [
    "from typing import Dict\n",
    "import pprint\n",
    "data : Dict[str,str] =  {\n",
    "                        \"fname\":\"Muhammad Aslam\",\n",
    "                        \"name\":\"Muhammad Qasim\",\n",
    "                        \"education\": \"MSDS\"\n",
    "                        }\n",
    "\n",
    "pprint.pprint(data)"
   ]
  },
  {
   "cell_type": "markdown",
   "metadata": {},
   "source": [
    "\n",
    "# Optional\n",
    "The Optional type is used when a variable can either have a specific type or be None. It is a shorthand for Union[X, None], where X is the type you want to allow along with None.\n"
   ]
  },
  {
   "cell_type": "markdown",
   "metadata": {},
   "source": [
    "# Union\n",
    "The Union type hint is used to indicate that a value can be one of several types. For example, if a variable can be an integer or a string, you can use Union[int, str] to indicate this."
   ]
  },
  {
   "cell_type": "code",
   "execution_count": 6,
   "metadata": {},
   "outputs": [
    {
     "name": "stdout",
     "output_type": "stream",
     "text": [
      "{'education': 'MSDS', 'fname': 'Muhammad Aslam', 'name': 'Muhammad Qasim'}\n"
     ]
    }
   ],
   "source": [
    "from typing import Dict,Union,Optional\n",
    "\n",
    "Key = [int,str]\n",
    "Value = [int,str,list,dict,tuple,set] # create custom type i.e aliyas\n",
    "data : Dict[Key,Value] =  {\n",
    "                        \"fname\":\"Muhammad Aslam\",\n",
    "                        \"name\":\"Muhammad Qasim\",\n",
    "                        \"education\": \"MSDS\"\n",
    "                        }\n",
    "pprint.pprint(data)"
   ]
  },
  {
   "cell_type": "code",
   "execution_count": 9,
   "metadata": {},
   "outputs": [
    {
     "name": "stdout",
     "output_type": "stream",
     "text": [
      "{'education': 'MSDS', 'fname': 'Muhammad Aslam', 'name': 'Muhammad Qasim'}\n",
      "'Muhammad Aslam'\n",
      "'Muhammad Qasim'\n",
      "'MSDS'\n"
     ]
    }
   ],
   "source": [
    "from typing import Dict, Union, Optional\n",
    "import pprint\n",
    "\n",
    "\n",
    "Key = Union[int,str] # create custom type\n",
    "Value = Union[int, str, list, dict, tuple, set]\n",
    "\n",
    "# List                    0                1            2\n",
    "data : Dict[Key,Value] = {\n",
    "                        \"fname\":\"Muhammad Aslam\",\n",
    "                        \"name\":\"Muhammad Qasim\",\n",
    "                        \"education\": \"MSDS\"\n",
    "                        }\n",
    "pprint.pprint(data)\n",
    "pprint.pprint(data['fname'])\n",
    "pprint.pprint(data[\"name\"])\n",
    "pprint.pprint(data[\"education\"])"
   ]
  },
  {
   "cell_type": "code",
   "execution_count": 12,
   "metadata": {},
   "outputs": [
    {
     "name": "stdout",
     "output_type": "stream",
     "text": [
      "{0: 'Pakistan',\n",
      " 'education': 'MSDS',\n",
      " 'fname': 'Muhammad Aslam',\n",
      " 'name': 'Muhammad Qasim'}\n",
      "Pakistan\n",
      "Muhammad Aslam\n",
      "Muhammad Qasim\n",
      "MSDS\n"
     ]
    }
   ],
   "source": [
    "from typing import Dict,Union,Optional\n",
    "import pprint\n",
    "Key = Union[int,str]\n",
    "Value = [ int,str,list,dict,tuple,set]\n",
    "data : Dict[Key,Value] = {\n",
    "                        \"fname\":\"Muhammad Aslam\",\n",
    "                        \"name\":\"Muhammad Qasim\",\n",
    "                        \"education\": \"MSDS\",\n",
    "                        0 : \"Pakistan\"\n",
    "                        }\n",
    "\n",
    "pprint.pprint(data)\n",
    "print(data[0])\n",
    "print(data[\"fname\"])\n",
    "print(data[\"name\"])\n",
    "print(data[\"education\"])"
   ]
  },
  {
   "cell_type": "code",
   "execution_count": 13,
   "metadata": {},
   "outputs": [
    {
     "name": "stdout",
     "output_type": "stream",
     "text": [
      "{'abc': [1, 2, 3],\n",
      " 'cde': {'a': 1, 'b': 2},\n",
      " 'education': 'MSDS',\n",
      " 'efg': (7, 8, 9),\n",
      " 'fname': 'Muhammad Aslam',\n",
      " 'name': 'Muhammad Qasim',\n",
      " 'xyz': {4, 5, 6}}\n",
      "Muhammad Qasim\n",
      "Muhammad Aslam\n",
      "{4, 5, 6}\n",
      "MSDS\n"
     ]
    }
   ],
   "source": [
    "from typing import Dict, Union, Optional\n",
    "import pprint\n",
    "\n",
    "\n",
    "Key = Union[int,str] # create custom type\n",
    "Value = Union[int, str, list, dict, tuple, set]\n",
    "\n",
    "# List                    0                1            2\n",
    "data : Dict[Key,Value] = {\n",
    "                        \"fname\":\"Muhammad Aslam\",\n",
    "                        \"name\":\"Muhammad Qasim\",\n",
    "                        \"education\": \"MSDS\",\n",
    "                        \"abc\": [1,2,3],\n",
    "                        \"xyz\": {4,5,6},\n",
    "                        \"efg\": (7,8,9),\n",
    "                        \"cde\" : {\"a\":1,\"b\":2}\n",
    "                        }\n",
    "pprint.pprint(data)\n",
    "print(data[\"name\"])\n",
    "print(data['fname'])\n",
    "\n",
    "print(data['xyz'])\n",
    "print(data['education'])"
   ]
  },
  {
   "cell_type": "code",
   "execution_count": 14,
   "metadata": {},
   "outputs": [
    {
     "name": "stdout",
     "output_type": "stream",
     "text": [
      "1\n"
     ]
    }
   ],
   "source": [
    "from typing import Dict, Union, Optional\n",
    "import pprint\n",
    "\n",
    "\n",
    "Key = Union[int,str] # create custom type\n",
    "Value = Union[int, str, list, dict, tuple, set]\n",
    "\n",
    "# List                    0                1            2\n",
    "data : Dict[Key,Value] = {\n",
    "                        \"fname\":\"Muhammad Aslam\",\n",
    "                        \"name\":\"Muhammad Qasim\",\n",
    "                        \"education\": \"MSDS\",\n",
    "                        \"abc\" : [1,2,3],\n",
    "                        'xyz': {1,2,3},\n",
    "                        'efg' : (1,2,3),\n",
    "                        'cde' : {\"a\":1, \"b\":2}\n",
    "                        }\n",
    "print(data['cde'][\"a\"])"
   ]
  },
  {
   "cell_type": "code",
   "execution_count": 15,
   "metadata": {},
   "outputs": [
    {
     "name": "stdout",
     "output_type": "stream",
     "text": [
      "{'name': 'Muhammad Qasim', 'fname': 'Muhammad Aslam', 'education': 'MSDS'}\n"
     ]
    }
   ],
   "source": [
    "# Value Assignment in Dict\n",
    "from typing import Dict, Union, Optional\n",
    "import pprint\n",
    "\n",
    "\n",
    "Key = Union[int,str] # create custom type\n",
    "Value = Union[int, str, list, dict, tuple, set]\n",
    "data : Dict[Key,Value] = {}\n",
    "data[\"name\"] = \"Muhammad Qasim\"\n",
    "data[\"fname\"] = \"Muhammad Aslam\"\n",
    "data[\"education\"] = \"MSDS\"\n",
    "print(data)\n",
    "\n",
    "\n",
    "\n",
    "\n"
   ]
  },
  {
   "cell_type": "code",
   "execution_count": 16,
   "metadata": {},
   "outputs": [
    {
     "name": "stdout",
     "output_type": "stream",
     "text": [
      "{'fname': 'Muhammad Aslam', 'name': 'Muhammad Qasim', 'education': 'MSDS'}\n",
      "{'fname': 'Muhammad Aslam', 'name': 'Muhammad Qasim', 'education': 'Ph.D'}\n"
     ]
    }
   ],
   "source": [
    "# Value update in Dict\n",
    "from typing import Dict, Union, Optional\n",
    "import pprint\n",
    "\n",
    "\n",
    "Key = Union[int,str] # create custom type\n",
    "Value = Union[int, str, list, dict, tuple, set]\n",
    "\n",
    "data : Dict[Key,Value] = {\n",
    "                        \"fname\":\"Muhammad Aslam\",\n",
    "                        \"name\":\"Muhammad Qasim\",\n",
    "                        \"education\": \"MSDS\"}\n",
    "print(data)\n",
    "data[\"education\"] = \"Ph.D\"\n",
    "print(data)"
   ]
  },
  {
   "cell_type": "code",
   "execution_count": 17,
   "metadata": {},
   "outputs": [
    {
     "ename": "KeyError",
     "evalue": "'Pakistan'",
     "output_type": "error",
     "traceback": [
      "\u001b[1;31m---------------------------------------------------------------------------\u001b[0m",
      "\u001b[1;31mKeyError\u001b[0m                                  Traceback (most recent call last)",
      "Cell \u001b[1;32mIn[17], line 14\u001b[0m\n\u001b[0;32m      6\u001b[0m Value \u001b[38;5;241m=\u001b[39m Union[\u001b[38;5;28mint\u001b[39m, \u001b[38;5;28mstr\u001b[39m, \u001b[38;5;28mlist\u001b[39m, \u001b[38;5;28mdict\u001b[39m, \u001b[38;5;28mtuple\u001b[39m, \u001b[38;5;28mset\u001b[39m]\n\u001b[0;32m      8\u001b[0m data : Dict[Key,Value] \u001b[38;5;241m=\u001b[39m {\n\u001b[0;32m      9\u001b[0m                         \u001b[38;5;124m\"\u001b[39m\u001b[38;5;124mfname\u001b[39m\u001b[38;5;124m\"\u001b[39m:\u001b[38;5;124m\"\u001b[39m\u001b[38;5;124mMuhammad Aslam\u001b[39m\u001b[38;5;124m\"\u001b[39m,\n\u001b[0;32m     10\u001b[0m                         \u001b[38;5;124m\"\u001b[39m\u001b[38;5;124mname\u001b[39m\u001b[38;5;124m\"\u001b[39m:\u001b[38;5;124m\"\u001b[39m\u001b[38;5;124mMuhammad Qasim\u001b[39m\u001b[38;5;124m\"\u001b[39m,\n\u001b[0;32m     11\u001b[0m                         \u001b[38;5;124m\"\u001b[39m\u001b[38;5;124meducation\u001b[39m\u001b[38;5;124m\"\u001b[39m: \u001b[38;5;124m\"\u001b[39m\u001b[38;5;124mMSDS\u001b[39m\u001b[38;5;124m\"\u001b[39m}\n\u001b[1;32m---> 14\u001b[0m \u001b[38;5;28mprint\u001b[39m(\u001b[43mdata\u001b[49m\u001b[43m[\u001b[49m\u001b[38;5;124;43m\"\u001b[39;49m\u001b[38;5;124;43mPakistan\u001b[39;49m\u001b[38;5;124;43m\"\u001b[39;49m\u001b[43m]\u001b[49m)\n",
      "\u001b[1;31mKeyError\u001b[0m: 'Pakistan'"
     ]
    }
   ],
   "source": [
    "from typing import Dict, Union, Optional\n",
    "import pprint\n",
    "\n",
    "\n",
    "Key = Union[int,str] # create custom type\n",
    "Value = Union[int, str, list, dict, tuple, set]\n",
    "\n",
    "data : Dict[Key,Value] = {\n",
    "                        \"fname\":\"Muhammad Aslam\",\n",
    "                        \"name\":\"Muhammad Qasim\",\n",
    "                        \"education\": \"MSDS\"}\n",
    "\n",
    "\n",
    "print(data[\"Pakistan\"])"
   ]
  },
  {
   "cell_type": "code",
   "execution_count": 18,
   "metadata": {},
   "outputs": [
    {
     "name": "stdout",
     "output_type": "stream",
     "text": [
      "{'fname': 'Muhammad Aslam', 'name': 'Muhammad Qasim', 'education': 'MSDS'}\n",
      "NA\n",
      "Muhammad Qasim\n"
     ]
    }
   ],
   "source": [
    "# To resolve the above error we do her this\n",
    "from typing import Dict, Union, Optional\n",
    "import pprint\n",
    "\n",
    "\n",
    "Key = Union[int,str] # create custom type\n",
    "Value = Union[int, str, list, dict, tuple, set]\n",
    "\n",
    "data : Dict[Key,Value] = {\n",
    "                        \"fname\":\"Muhammad Aslam\",\n",
    "                        \"name\":\"Muhammad Qasim\",\n",
    "                        \"education\": \"MSDS\"}\n",
    "print(data)\n",
    "print(data.get(\"Pakistan\",\"NA\"))\n",
    "print(data.get(\"name\",\"NA\"))"
   ]
  },
  {
   "cell_type": "code",
   "execution_count": 19,
   "metadata": {},
   "outputs": [
    {
     "data": {
      "text/plain": [
       "['clear',\n",
       " 'copy',\n",
       " 'fromkeys',\n",
       " 'get',\n",
       " 'items',\n",
       " 'keys',\n",
       " 'pop',\n",
       " 'popitem',\n",
       " 'setdefault',\n",
       " 'update',\n",
       " 'values']"
      ]
     },
     "execution_count": 19,
     "metadata": {},
     "output_type": "execute_result"
    }
   ],
   "source": [
    "[i for i in dir(data) if \"__\" not in i]"
   ]
  },
  {
   "cell_type": "code",
   "execution_count": 34,
   "metadata": {},
   "outputs": [
    {
     "name": "stdout",
     "output_type": "stream",
     "text": [
      "fname\n",
      "name\n",
      "education\n"
     ]
    }
   ],
   "source": [
    "from typing import Dict, Union, Optional\n",
    "import pprint\n",
    "Key = [int,str]\n",
    "Value = [int,str,list,dict,tuple,set]\n",
    "data : Dict[Key,Value] = {\n",
    "                        \"fname\":\"Muhammad Aslam\",\n",
    "                        \"name\":\"Muhammad Qasim\",\n",
    "                        \"education\": \"MSDS\"}\n",
    "for k in data:\n",
    "    print(k)"
   ]
  },
  {
   "cell_type": "code",
   "execution_count": 29,
   "metadata": {},
   "outputs": [
    {
     "name": "stdout",
     "output_type": "stream",
     "text": [
      "dict_keys(['fname', 'name', 'education'])\n",
      "dict_values(['Muhammad Aslam', 'Muhammad Qasim', 'MSDS'])\n",
      "dict_items([('fname', 'Muhammad Aslam'), ('name', 'Muhammad Qasim'), ('education', 'MSDS')])\n",
      "_______\n",
      "fname\n",
      "name\n",
      "education\n",
      "_______\n",
      "Muhammad Aslam\n",
      "Muhammad Qasim\n",
      "MSDS\n"
     ]
    }
   ],
   "source": [
    "from typing import Dict, Union, Optional\n",
    "import pprint\n",
    "\n",
    "\n",
    "Key = Union[int,str] # create custom type\n",
    "Value = Union[int, str, list, dict, tuple, set]\n",
    "\n",
    "data : Dict[Key,Value] = {\n",
    "                        \"fname\":\"Muhammad Aslam\",\n",
    "                        \"name\":\"Muhammad Qasim\",\n",
    "                        \"education\": \"MSDS\"}\n",
    "print(data.keys())\n",
    "print(data.values())\n",
    "print(data.items())\n",
    "print(\"_______\")\n",
    "for k in data.keys():\n",
    "    print(k)\n",
    "print(\"_______\")\n",
    "for v in data.values():\n",
    "    print(v)"
   ]
  },
  {
   "cell_type": "code",
   "execution_count": 30,
   "metadata": {},
   "outputs": [
    {
     "name": "stdout",
     "output_type": "stream",
     "text": [
      "dict_keys(['fname', 'name', 'education'])\n",
      "dict_values(['Muhammad Aslam', 'Muhammad Qasim', 'MSDS'])\n",
      "dict_items([('fname', 'Muhammad Aslam'), ('name', 'Muhammad Qasim'), ('education', 'MSDS')])\n",
      "fname Muhammad Aslam\n",
      "name Muhammad Qasim\n",
      "education MSDS\n"
     ]
    }
   ],
   "source": [
    "from typing import Dict, Union, Optional\n",
    "import pprint\n",
    "\n",
    "\n",
    "Key = Union[int,str] # create custom type\n",
    "Value = Union[int, str, list, dict, tuple, set]\n",
    "\n",
    "data : Dict[Key,Value] = {\n",
    "                        \"fname\":\"Muhammad Aslam\",\n",
    "                        \"name\":\"Muhammad Qasim\",\n",
    "                        \"education\": \"MSDS\"}\n",
    "\n",
    "\n",
    "print(data.keys()) # keys\n",
    "print(data.values()) # values\n",
    "print(data.items())\n",
    "for k,v in data.items():\n",
    "    print(k,v)\n"
   ]
  },
  {
   "cell_type": "code",
   "execution_count": 32,
   "metadata": {},
   "outputs": [
    {
     "name": "stdout",
     "output_type": "stream",
     "text": [
      "{}\n",
      "{'id': None, 'name': None, 'fname': None, 'course': None}\n"
     ]
    }
   ],
   "source": [
    "keys_without_values : list[str] = ['id','name','fname','course']\n",
    "data : dict[Key,Value] = {}\n",
    "print(data)\n",
    "data = data.fromkeys(keys_without_values)\n",
    "print(data)"
   ]
  },
  {
   "cell_type": "code",
   "execution_count": null,
   "metadata": {},
   "outputs": [],
   "source": []
  }
 ],
 "metadata": {
  "kernelspec": {
   "display_name": "python12",
   "language": "python",
   "name": "python3"
  },
  "language_info": {
   "codemirror_mode": {
    "name": "ipython",
    "version": 3
   },
   "file_extension": ".py",
   "mimetype": "text/x-python",
   "name": "python",
   "nbconvert_exporter": "python",
   "pygments_lexer": "ipython3",
   "version": "3.12.0"
  }
 },
 "nbformat": 4,
 "nbformat_minor": 2
}
