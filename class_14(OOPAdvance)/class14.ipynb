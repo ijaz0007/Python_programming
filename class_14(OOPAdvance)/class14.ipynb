{
 "cells": [
  {
   "cell_type": "markdown",
   "metadata": {},
   "source": [
    "# Multiple Inheritance"
   ]
  },
  {
   "cell_type": "code",
   "execution_count": 2,
   "metadata": {},
   "outputs": [
    {
     "name": "stdout",
     "output_type": "stream",
     "text": [
      "object height: 6 feet\n",
      "object eye color: blue\n",
      "Mother speaking function: Pakistan Zinda Bad\n"
     ]
    }
   ],
   "source": [
    "class Mother:   # for multliple inheritance we dont use () with class\n",
    "    def __init__(self, name : str ) -> None:\n",
    "        self.name : str = name  # attributes\n",
    "        self.eye_color : str = \"blue\"\n",
    "    \n",
    "    def speaking(self, words : str)->None:  # Function\n",
    "        print(f\"Mother speaking function: {words}\")\n",
    "\n",
    "class Father:\n",
    "    def __init__(self, name : str ) -> None: # constructor\n",
    "        self.name : str = \"Adil\"    # attributes\n",
    "        self.height : str = \"6 feet\"\n",
    "\n",
    "    def speaking(self, words : str )->None: # function\n",
    "        print(f\"Father speaking function: {words}\")\n",
    "\n",
    "class Child(Mother,Father): \n",
    "    def __init__(self, mother_name : str, father_name : str, child_name : str) -> None: # constructor\n",
    "        Mother.__init__(self, mother_name) # attributes\n",
    "        Father.__init__(self, father_name)\n",
    "        self.child_name : str = child_name\n",
    "qasim : Child = Child(\"Naseem Bano\",\"M.Aslam\",\"M.Qasim\") # object/variable\n",
    "print(f\"object height: {qasim.height}\")\n",
    "print(f\"object eye color: {qasim.eye_color}\")\n",
    "qasim.speaking(\"Pakistan Zinda Bad\")"
   ]
  },
  {
   "cell_type": "code",
   "execution_count": 3,
   "metadata": {},
   "outputs": [
    {
     "data": {
      "text/plain": [
       "['child_name', 'eye_color', 'height', 'name', 'speaking']"
      ]
     },
     "execution_count": 3,
     "metadata": {},
     "output_type": "execute_result"
    }
   ],
   "source": [
    "[i for i in dir(qasim) if \"__\" not in i]"
   ]
  },
  {
   "cell_type": "code",
   "execution_count": 4,
   "metadata": {},
   "outputs": [
    {
     "name": "stdout",
     "output_type": "stream",
     "text": [
      "object height: 6 feet\n",
      "object eye color: blue\n",
      "Father speaking function: Pakistan Zinda Bad\n"
     ]
    }
   ],
   "source": [
    "class Mother:   # for multliple inheritance we dont use () with class\n",
    "    def __init__(self, name : str ) -> None:\n",
    "        self.name : str = name  # attributes\n",
    "        self.eye_color : str = \"blue\"\n",
    "    \n",
    "    def speaking(self, words : str)->None:  # Function\n",
    "        print(f\"Mother speaking function: {words}\")\n",
    "\n",
    "class Father:\n",
    "    def __init__(self, name : str ) -> None: # constructor\n",
    "        self.name : str = \"Adil\"    # attributes\n",
    "        self.height : str = \"6 feet\"\n",
    "\n",
    "    def speaking(self, words : str )->None: # function\n",
    "        print(f\"Father speaking function: {words}\")\n",
    "\n",
    "class Child(Father,Mother): \n",
    "    def __init__(self, mother_name : str, father_name : str, child_name : str) -> None: # constructor\n",
    "        Mother.__init__(self, mother_name) # attributes\n",
    "        Father.__init__(self, father_name)\n",
    "        self.child_name : str = child_name\n",
    "qasim : Child = Child(\"Naseem Bano\",\"M.Aslam\",\"M.Qasim\") # object/variable\n",
    "print(f\"object height: {qasim.height}\")\n",
    "print(f\"object eye color: {qasim.eye_color}\")\n",
    "qasim.speaking(\"Pakistan Zinda Bad\")"
   ]
  },
  {
   "cell_type": "markdown",
   "metadata": {},
   "source": [
    "# Function Overloading"
   ]
  },
  {
   "cell_type": "code",
   "execution_count": 11,
   "metadata": {},
   "outputs": [],
   "source": [
    "from typing import Union,overload\n",
    "\n",
    "@overload    #signature will not defined with boday\n",
    "def add(x : int, y : int)->int:\n",
    "    ...\n",
    "\n",
    "@overload    #signature will not defined with boday\n",
    "def add(x : float, y : float)->float:\n",
    "    ...\n",
    "\n",
    "@overload   #signature will not defined with boday\n",
    "def add(x : str, y : str)->str:\n",
    "    ...\n",
    "def add(x : Union[int,float,str],y : Union[int,float,str])->Union[int,float,str]:\n",
    "    if isinstance(x,int) and isinstance(y,int):\n",
    "        return x+y\n",
    "    elif isinstance(x,float) and isinstance(y,float):\n",
    "        return x+y\n",
    "    elif isinstance(x,str) and isinstance(y,str):\n",
    "        return x+y\n",
    "    else:\n",
    "        raise TypeError(\"invalid argument types\")\n",
    "\n",
    "result1 = add(1,2)\n",
    "result2 = add(1.2,5.9)\n",
    "result3 = add(\"Hello\",\"\\tWorld\")\n"
   ]
  },
  {
   "cell_type": "code",
   "execution_count": 7,
   "metadata": {},
   "outputs": [
    {
     "name": "stdout",
     "output_type": "stream",
     "text": [
      "3 7.1000000000000005 HelloWorld\n"
     ]
    }
   ],
   "source": [
    "print(result1, result2, result3)"
   ]
  },
  {
   "cell_type": "markdown",
   "metadata": {},
   "source": [
    "# Method overloading"
   ]
  },
  {
   "cell_type": "code",
   "execution_count": 3,
   "metadata": {},
   "outputs": [
    {
     "name": "stdout",
     "output_type": "stream",
     "text": [
      "5\n",
      "7.8\n",
      "HelloWorld\n"
     ]
    }
   ],
   "source": [
    "from typing import Union, overload\n",
    "\n",
    "class Adder:\n",
    "\n",
    "    @overload\n",
    "    def add(self, x: int, y: int) -> int:\n",
    "        ...\n",
    "    \n",
    "    @overload\n",
    "    def add(self, x: float, y: float) -> float:\n",
    "        ...\n",
    "    \n",
    "    @overload\n",
    "    def add(self, x: str, y: str) -> str:\n",
    "        ...\n",
    "\n",
    "    def add(self, x: Union[int, float, str], y: Union[int, float, str]) -> Union[int, float, str]:\n",
    "        if isinstance(x, int) and isinstance(y, int):\n",
    "            return x + y\n",
    "        elif isinstance(x, float) and isinstance(y, float):\n",
    "            return x + y\n",
    "        elif isinstance(x, str) and isinstance(y, str):\n",
    "            return x + y\n",
    "        else:\n",
    "            raise TypeError(\"Invalid argument type\")\n",
    "\n",
    "# Usage examples\n",
    "adder = Adder()\n",
    "result1 = adder.add(1, 4)\n",
    "result2 = adder.add(2.3, 5.5)\n",
    "result3 = adder.add(\"Hello\", \"World\")\n",
    "print(result1)  # 5\n",
    "print(result2)  # 7.8\n",
    "print(result3)  # HelloWorld\n"
   ]
  },
  {
   "cell_type": "code",
   "execution_count": 5,
   "metadata": {},
   "outputs": [
    {
     "ename": "TypeError",
     "evalue": "Invalid argument type",
     "output_type": "error",
     "traceback": [
      "\u001b[1;31m---------------------------------------------------------------------------\u001b[0m",
      "\u001b[1;31mTypeError\u001b[0m                                 Traceback (most recent call last)",
      "Cell \u001b[1;32mIn[5], line 2\u001b[0m\n\u001b[0;32m      1\u001b[0m \u001b[38;5;66;03m# Error generated\u001b[39;00m\n\u001b[1;32m----> 2\u001b[0m \u001b[43madder\u001b[49m\u001b[38;5;241;43m.\u001b[39;49m\u001b[43madd\u001b[49m\u001b[43m(\u001b[49m\u001b[43m[\u001b[49m\u001b[38;5;241;43m1\u001b[39;49m\u001b[43m,\u001b[49m\u001b[38;5;241;43m2\u001b[39;49m\u001b[43m,\u001b[49m\u001b[38;5;241;43m3\u001b[39;49m\u001b[43m]\u001b[49m\u001b[43m,\u001b[49m\u001b[43m[\u001b[49m\u001b[38;5;241;43m4\u001b[39;49m\u001b[43m,\u001b[49m\u001b[38;5;241;43m5\u001b[39;49m\u001b[43m,\u001b[49m\u001b[38;5;241;43m6\u001b[39;49m\u001b[43m]\u001b[49m\u001b[43m)\u001b[49m\n",
      "Cell \u001b[1;32mIn[3], line 25\u001b[0m, in \u001b[0;36mAdder.add\u001b[1;34m(self, x, y)\u001b[0m\n\u001b[0;32m     23\u001b[0m     \u001b[38;5;28;01mreturn\u001b[39;00m x \u001b[38;5;241m+\u001b[39m y\n\u001b[0;32m     24\u001b[0m \u001b[38;5;28;01melse\u001b[39;00m:\n\u001b[1;32m---> 25\u001b[0m     \u001b[38;5;28;01mraise\u001b[39;00m \u001b[38;5;167;01mTypeError\u001b[39;00m(\u001b[38;5;124m\"\u001b[39m\u001b[38;5;124mInvalid argument type\u001b[39m\u001b[38;5;124m\"\u001b[39m)\n",
      "\u001b[1;31mTypeError\u001b[0m: Invalid argument type"
     ]
    }
   ],
   "source": [
    "# Error generated\n",
    "adder.add([1,2,3],[4,5,6])"
   ]
  },
  {
   "cell_type": "markdown",
   "metadata": {},
   "source": [
    "# Overriding"
   ]
  },
  {
   "cell_type": "code",
   "execution_count": 8,
   "metadata": {},
   "outputs": [
    {
     "name": "stdout",
     "output_type": "stream",
     "text": [
      "bird wants to eat bread\n",
      "animal wants to eat grass\n"
     ]
    }
   ],
   "source": [
    "class Animal():\n",
    "    def eating(self, food : str)->None:\n",
    "        print(f\"animal wants to eat {food}\")\n",
    "class Bird(Animal):\n",
    "    def eating(self, food : str)->None:\n",
    "        print(f\"bird wants to eat {food}\")\n",
    "\n",
    "\n",
    "bird : Bird = Bird()\n",
    "bird.eating(\"bread\")\n",
    "\n",
    "\n",
    "animal : Animal = Animal()\n",
    "animal.eating(\"grass\")\n"
   ]
  },
  {
   "cell_type": "markdown",
   "metadata": {},
   "source": [
    "# Polymorphism"
   ]
  },
  {
   "cell_type": "code",
   "execution_count": 9,
   "metadata": {},
   "outputs": [
    {
     "name": "stdout",
     "output_type": "stream",
     "text": [
      "bird wants to eat grass\n"
     ]
    }
   ],
   "source": [
    "animal : Animal = Bird()\n",
    "animal.eating(\"grass\")"
   ]
  },
  {
   "cell_type": "code",
   "execution_count": 10,
   "metadata": {},
   "outputs": [
    {
     "name": "stdout",
     "output_type": "stream",
     "text": [
      "<class '__main__.Bird'>\n"
     ]
    }
   ],
   "source": [
    "print(type(animal))"
   ]
  },
  {
   "cell_type": "code",
   "execution_count": 11,
   "metadata": {},
   "outputs": [
    {
     "name": "stdout",
     "output_type": "stream",
     "text": [
      "animal wants to eat grass\n"
     ]
    }
   ],
   "source": [
    "animal : Animal = Animal()\n",
    "animal.eating(\"grass\")"
   ]
  },
  {
   "cell_type": "markdown",
   "metadata": {},
   "source": [
    "# Static Method and Static variable(class variable)"
   ]
  },
  {
   "cell_type": "code",
   "execution_count": 13,
   "metadata": {},
   "outputs": [
    {
     "name": "stdout",
     "output_type": "stream",
     "text": [
      "Addition result: 6\n",
      "Multipliction result: 4\n",
      "Static variable or Class variable PIAIC\n"
     ]
    }
   ],
   "source": [
    "class MathOperations:\n",
    "    counter : int = 0\n",
    "    organiztion : str = \"PIAIC\"\n",
    "    @staticmethod\n",
    "    def add(x : int, y : int)->int:\n",
    "        \"\"\"Add two numbers\"\"\"\n",
    "        return x + y\n",
    "    @staticmethod\n",
    "    def multiply(x : int, y : int)->int:\n",
    "        \"\"\"Multiply two numbers\"\"\"\n",
    "        return x*y\n",
    "# Using the static methods\n",
    "result_add = MathOperations.add(3,3)\n",
    "result_multiply = MathOperations.multiply(2,2)\n",
    "\n",
    "\n",
    "print(\"Addition result:\",result_add)\n",
    "print(\"Multipliction result:\",result_multiply)\n",
    "print(\"Static variable or Class variable\",MathOperations.organiztion)"
   ]
  },
  {
   "cell_type": "markdown",
   "metadata": {},
   "source": [
    "# everything is an object"
   ]
  },
  {
   "cell_type": "markdown",
   "metadata": {},
   "source": [
    "https://www.codingninjas.com/studio/library/how-everything-in-python-is-an-object"
   ]
  },
  {
   "cell_type": "code",
   "execution_count": 14,
   "metadata": {},
   "outputs": [
    {
     "name": "stdout",
     "output_type": "stream",
     "text": [
      "Human is eating Biryani\n"
     ]
    }
   ],
   "source": [
    "class Human():\n",
    "    def eating(self, food : str)->None:\n",
    "        print(f\"Human is eating {food}\")\n",
    "\n",
    "obj1 : Human = Human()\n",
    "obj1.eating(\"Biryani\")"
   ]
  },
  {
   "cell_type": "code",
   "execution_count": 15,
   "metadata": {},
   "outputs": [
    {
     "data": {
      "text/plain": [
       "['__class__',\n",
       " '__delattr__',\n",
       " '__dict__',\n",
       " '__dir__',\n",
       " '__doc__',\n",
       " '__eq__',\n",
       " '__format__',\n",
       " '__ge__',\n",
       " '__getattribute__',\n",
       " '__getstate__',\n",
       " '__gt__',\n",
       " '__hash__',\n",
       " '__init__',\n",
       " '__init_subclass__',\n",
       " '__le__',\n",
       " '__lt__',\n",
       " '__module__',\n",
       " '__ne__',\n",
       " '__new__',\n",
       " '__reduce__',\n",
       " '__reduce_ex__',\n",
       " '__repr__',\n",
       " '__setattr__',\n",
       " '__sizeof__',\n",
       " '__str__',\n",
       " '__subclasshook__',\n",
       " '__weakref__',\n",
       " 'eating']"
      ]
     },
     "execution_count": 15,
     "metadata": {},
     "output_type": "execute_result"
    }
   ],
   "source": [
    "dir(obj1)"
   ]
  },
  {
   "cell_type": "markdown",
   "metadata": {},
   "source": [
    "# Callable"
   ]
  },
  {
   "cell_type": "markdown",
   "metadata": {},
   "source": [
    "https://realpython.com/python-callable-instances/"
   ]
  },
  {
   "cell_type": "markdown",
   "metadata": {},
   "source": [
    "``` __init__(): Used for initializing a newly created object. also as Constructor```\n",
    "\n",
    "``` __call__(): Used to make an object callable, i.e., to allow an object to be used as a function.```"
   ]
  },
  {
   "cell_type": "code",
   "execution_count": 23,
   "metadata": {},
   "outputs": [
    {
     "name": "stdout",
     "output_type": "stream",
     "text": [
      "Human is eating Biryani\n",
      "Human is eating Nihari\n"
     ]
    }
   ],
   "source": [
    "class Human1():\n",
    "    def eating(self, food : str)->None:\n",
    "        print(f\"Human is eating {food}\")\n",
    "    \n",
    "    def __call__(self) -> None:\n",
    "        self.eating(\"Nihari\")\n",
    "obj3 : Human1 = Human1()\n",
    "obj3.eating(\"Biryani\")\n",
    "obj3.__call__()"
   ]
  },
  {
   "cell_type": "code",
   "execution_count": null,
   "metadata": {},
   "outputs": [],
   "source": []
  }
 ],
 "metadata": {
  "kernelspec": {
   "display_name": "python12",
   "language": "python",
   "name": "python3"
  },
  "language_info": {
   "codemirror_mode": {
    "name": "ipython",
    "version": 3
   },
   "file_extension": ".py",
   "mimetype": "text/x-python",
   "name": "python",
   "nbconvert_exporter": "python",
   "pygments_lexer": "ipython3",
   "version": "3.12.0"
  }
 },
 "nbformat": 4,
 "nbformat_minor": 2
}
