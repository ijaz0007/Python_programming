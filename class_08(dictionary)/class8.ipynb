{
 "cells": [
  {
   "cell_type": "code",
   "execution_count": 36,
   "metadata": {},
   "outputs": [
    {
     "name": "stdout",
     "output_type": "stream",
     "text": [
      "['clear', 'copy', 'fromkeys', 'get', 'items', 'keys', 'pop', 'popitem', 'setdefault', 'update', 'values']\n"
     ]
    }
   ],
   "source": [
    "from typing import Dict,Union,Optional\n",
    "import pprint\n",
    "\n",
    "Key = Union[int,str]\n",
    "Value = Union[int,str,list,dict,tuple,set]\n",
    "\n",
    "data : Dict[Key,Value] = {\n",
    "                        \"fname\":\"Muhammad Aslam\",\n",
    "                        \"name\":\"Muhammad Qasim\",\n",
    "                        \"education\": \"MSDS\"}\n",
    "methods : list[str] = [m for m in dir(data) if \"__\" not in m]\n",
    "print(methods)"
   ]
  },
  {
   "cell_type": "code",
   "execution_count": 37,
   "metadata": {},
   "outputs": [
    {
     "name": "stdout",
     "output_type": "stream",
     "text": [
      "{'fname': 'Muhammad Aslam', 'name': 'Muhammad Qasim', 'education': 'MSDS'}\n",
      "None\n",
      "after clear\n"
     ]
    }
   ],
   "source": [
    "Key = Union[int,str]\n",
    "Value = Union[int,str,list,dict,tuple,set]\n",
    "\n",
    "data : Dict[Key,Value] = {\n",
    "                        \"fname\":\"Muhammad Aslam\",\n",
    "                        \"name\":\"Muhammad Qasim\",\n",
    "                        \"education\": \"MSDS\"}\n",
    "print(data)\n",
    "print(data.clear())\n",
    "print(\"after clear\")\n",
    "\n",
    "methods : list[str] = [m for m in dir(data) if \"__\" not in m]\n"
   ]
  },
  {
   "cell_type": "code",
   "execution_count": 38,
   "metadata": {},
   "outputs": [
    {
     "ename": "NameError",
     "evalue": "name 'data' is not defined",
     "output_type": "error",
     "traceback": [
      "\u001b[1;31m---------------------------------------------------------------------------\u001b[0m",
      "\u001b[1;31mNameError\u001b[0m                                 Traceback (most recent call last)",
      "Cell \u001b[1;32mIn[38], line 9\u001b[0m\n\u001b[0;32m      4\u001b[0m data : Dict[Key,Value] \u001b[38;5;241m=\u001b[39m {\n\u001b[0;32m      5\u001b[0m                         \u001b[38;5;124m\"\u001b[39m\u001b[38;5;124mfname\u001b[39m\u001b[38;5;124m\"\u001b[39m:\u001b[38;5;124m\"\u001b[39m\u001b[38;5;124mMuhammad Aslam\u001b[39m\u001b[38;5;124m\"\u001b[39m,\n\u001b[0;32m      6\u001b[0m                         \u001b[38;5;124m\"\u001b[39m\u001b[38;5;124mname\u001b[39m\u001b[38;5;124m\"\u001b[39m:\u001b[38;5;124m\"\u001b[39m\u001b[38;5;124mMuhammad Qasim\u001b[39m\u001b[38;5;124m\"\u001b[39m,\n\u001b[0;32m      7\u001b[0m                         \u001b[38;5;124m\"\u001b[39m\u001b[38;5;124meducation\u001b[39m\u001b[38;5;124m\"\u001b[39m: \u001b[38;5;124m\"\u001b[39m\u001b[38;5;124mMSDS\u001b[39m\u001b[38;5;124m\"\u001b[39m}\n\u001b[0;32m      8\u001b[0m \u001b[38;5;28;01mdel\u001b[39;00m data\n\u001b[1;32m----> 9\u001b[0m \u001b[38;5;28mprint\u001b[39m(\u001b[38;5;124m\"\u001b[39m\u001b[38;5;124mafter del \u001b[39m\u001b[38;5;124m\"\u001b[39m,\u001b[43mdata\u001b[49m)\n\u001b[0;32m     11\u001b[0m methods : \u001b[38;5;28mlist\u001b[39m[\u001b[38;5;28mstr\u001b[39m] \u001b[38;5;241m=\u001b[39m [m \u001b[38;5;28;01mfor\u001b[39;00m m \u001b[38;5;129;01min\u001b[39;00m \u001b[38;5;28mdir\u001b[39m(data) \u001b[38;5;28;01mif\u001b[39;00m \u001b[38;5;124m\"\u001b[39m\u001b[38;5;124m__\u001b[39m\u001b[38;5;124m\"\u001b[39m \u001b[38;5;129;01mnot\u001b[39;00m \u001b[38;5;129;01min\u001b[39;00m m]\n",
      "\u001b[1;31mNameError\u001b[0m: name 'data' is not defined"
     ]
    }
   ],
   "source": [
    "Key = Union[int,str]\n",
    "Value = Union[int,str,list,dict,tuple,set]\n",
    "\n",
    "data : Dict[Key,Value] = {\n",
    "                        \"fname\":\"Muhammad Aslam\",\n",
    "                        \"name\":\"Muhammad Qasim\",\n",
    "                        \"education\": \"MSDS\"}\n",
    "del data\n",
    "print(\"after del \",data)\n",
    "\n",
    "methods : list[str] = [m for m in dir(data) if \"__\" not in m]\n"
   ]
  },
  {
   "cell_type": "code",
   "execution_count": null,
   "metadata": {},
   "outputs": [
    {
     "name": "stdout",
     "output_type": "stream",
     "text": [
      "before {'fname': 'Muhammad Aslam', 'name': 'Muhammad Qasim', 'education': 'MSDS'}\n",
      "MSDS\n",
      "after clear {'fname': 'Muhammad Aslam', 'name': 'Muhammad Qasim'}\n"
     ]
    }
   ],
   "source": [
    "Key = Union[int,str]\n",
    "Value = Union[int,str,list,dict,tuple,set]\n",
    "\n",
    "data : Dict[Key,Value] = {\n",
    "                        \"fname\":\"Muhammad Aslam\",\n",
    "                        \"name\":\"Muhammad Qasim\",\n",
    "                        \"education\": \"MSDS\"}\n",
    "print(\"before\",data)\n",
    "a : str =(data.pop('education'))\n",
    "print(a)\n",
    "print(\"after clear\",data)\n"
   ]
  },
  {
   "cell_type": "code",
   "execution_count": null,
   "metadata": {},
   "outputs": [
    {
     "name": "stdout",
     "output_type": "stream",
     "text": [
      "Before {'fname': 'Muhammad Aslam', 'name': 'Muhammad Qasim', 'education': 'MSDS'}\n",
      "('education', 'MSDS')\n",
      "After {'fname': 'Muhammad Aslam', 'name': 'Muhammad Qasim'}\n",
      "['clear', 'copy', 'fromkeys', 'get', 'items', 'keys', 'pop', 'popitem', 'setdefault', 'update', 'values']\n"
     ]
    }
   ],
   "source": [
    "from typing import Dict, Union, Optional\n",
    "import pprint\n",
    "\n",
    "\n",
    "Key = Union[int,str] # create custom type\n",
    "Value = Union[int, str, list, dict, tuple, set]\n",
    "\n",
    "data : Dict[Key,Value] = {\n",
    "                        \"fname\":\"Muhammad Aslam\",\n",
    "                        \"name\":\"Muhammad Qasim\",\n",
    "                        \"education\": \"MSDS\"}\n",
    "\n",
    "print(\"Before\", data)\n",
    "\n",
    "a : str = data.popitem()\n",
    "print(a)\n",
    "\n",
    "print(\"After\", data)\n",
    "\n",
    "methods : list[str] = [m for m in dir(data) if \"__\" not in m]\n",
    "print(methods)"
   ]
  },
  {
   "cell_type": "code",
   "execution_count": null,
   "metadata": {},
   "outputs": [
    {
     "name": "stdout",
     "output_type": "stream",
     "text": [
      "Before {'fname': 'Muhammad Aslam', 'name': 'Muhammad Qasim', 'education': 'MSDS'}\n",
      "NA\n",
      "After {'fname': 'Muhammad Aslam', 'name': 'Muhammad Qasim', 'education': 'MSDS'}\n",
      "['clear', 'copy', 'fromkeys', 'get', 'items', 'keys', 'pop', 'popitem', 'setdefault', 'update', 'values']\n"
     ]
    }
   ],
   "source": [
    "from typing import Dict, Union, Optional\n",
    "import pprint\n",
    "\n",
    "\n",
    "Key = Union[int,str] # create custom type\n",
    "Value = Union[int, str, list, dict, tuple, set]\n",
    "\n",
    "data : Dict[Key,Value] = {\n",
    "                        \"fname\":\"Muhammad Aslam\",\n",
    "                        \"name\":\"Muhammad Qasim\",\n",
    "                        \"education\": \"MSDS\"}\n",
    "\n",
    "print(\"Before\", data)\n",
    "\n",
    "a : str = data.get(\"Pakistan\",\"NA\")\n",
    "print(a)\n",
    "\n",
    "print(\"After\", data)\n",
    "\n",
    "methods : list[str] = [m for m in dir(data) if \"__\" not in m]\n",
    "print(methods)"
   ]
  },
  {
   "cell_type": "code",
   "execution_count": null,
   "metadata": {},
   "outputs": [
    {
     "name": "stdout",
     "output_type": "stream",
     "text": [
      "Before {'fname': 'Muhammad Aslam', 'name': 'Muhammad Qasim', 'education': 'MSDS'}\n",
      "Empty value\n",
      "After {'fname': 'Muhammad Aslam', 'name': 'Muhammad Qasim', 'education': 'MSDS', 'Pakistan': 'Empty value'}\n",
      "['clear', 'copy', 'fromkeys', 'get', 'items', 'keys', 'pop', 'popitem', 'setdefault', 'update', 'values']\n"
     ]
    }
   ],
   "source": [
    "from typing import Dict, Union, Optional\n",
    "import pprint\n",
    "\n",
    "\n",
    "Key = Union[int,str] # create custom type\n",
    "Value = Union[int, str, list, dict, tuple, set]\n",
    "\n",
    "data : Dict[Key,Value] = {\n",
    "                        \"fname\":\"Muhammad Aslam\",\n",
    "                        \"name\":\"Muhammad Qasim\",\n",
    "                        \"education\": \"MSDS\"}\n",
    "\n",
    "print(\"Before\", data)\n",
    "\n",
    "a : str = data.setdefault(\"Pakistan\",\"Empty value\")\n",
    "print(a)\n",
    "\n",
    "print(\"After\", data)\n",
    "\n",
    "methods : list[str] = [m for m in dir(data) if \"__\" not in m]\n",
    "print(methods)"
   ]
  },
  {
   "cell_type": "code",
   "execution_count": null,
   "metadata": {},
   "outputs": [
    {
     "name": "stdout",
     "output_type": "stream",
     "text": [
      "Before {'fname': 'Muhammad Aslam', 'name': 'Muhammad Qasim', 'education': 'MSDS'}\n",
      "None\n",
      "{'fname': 'Muhammad Aslam', 'name': 'M.Qasim', 'education': 'MSDS', 'age': 30, 'Height': '6 Feet'}\n",
      "['clear', 'copy', 'fromkeys', 'get', 'items', 'keys', 'pop', 'popitem', 'setdefault', 'update', 'values']\n"
     ]
    }
   ],
   "source": [
    "from typing import Dict, Union, Optional\n",
    "import pprint\n",
    "\n",
    "\n",
    "Key = Union[int,str] # create custom type\n",
    "Value = Union[int, str, list, dict, tuple, set]\n",
    "\n",
    "data : Dict[Key,Value] = {\n",
    "                        \"fname\":\"Muhammad Aslam\",\n",
    "                        \"name\":\"Muhammad Qasim\",\n",
    "                        \"education\": \"MSDS\"}\n",
    "\n",
    "print(\"Before\", data)\n",
    "data1 : Union[int,str] = {\"name\":\"M.Qasim\",\n",
    "                           \"age\":30,\n",
    "                           \"Height\": \"6 Feet\"}\n",
    "\n",
    "print(data.update(data1))\n",
    "print(data)\n",
    "\n",
    "methods : list[str] = [m for m in dir(data) if \"__\" not in m]\n",
    "print(methods)"
   ]
  },
  {
   "cell_type": "code",
   "execution_count": null,
   "metadata": {},
   "outputs": [
    {
     "data": {
      "text/html": [
       "<div>\n",
       "<style scoped>\n",
       "    .dataframe tbody tr th:only-of-type {\n",
       "        vertical-align: middle;\n",
       "    }\n",
       "\n",
       "    .dataframe tbody tr th {\n",
       "        vertical-align: top;\n",
       "    }\n",
       "\n",
       "    .dataframe thead th {\n",
       "        text-align: right;\n",
       "    }\n",
       "</style>\n",
       "<table border=\"1\" class=\"dataframe\">\n",
       "  <thead>\n",
       "    <tr style=\"text-align: right;\">\n",
       "      <th></th>\n",
       "      <th>roll no</th>\n",
       "      <th>Name</th>\n",
       "      <th>education</th>\n",
       "    </tr>\n",
       "  </thead>\n",
       "  <tbody>\n",
       "    <tr>\n",
       "      <th>0</th>\n",
       "      <td>1</td>\n",
       "      <td>Sir Zia</td>\n",
       "      <td>Master</td>\n",
       "    </tr>\n",
       "    <tr>\n",
       "      <th>1</th>\n",
       "      <td>2</td>\n",
       "      <td>Sir Inam</td>\n",
       "      <td>Master</td>\n",
       "    </tr>\n",
       "    <tr>\n",
       "      <th>2</th>\n",
       "      <td>3</td>\n",
       "      <td>Muhammad Qasim</td>\n",
       "      <td>Master</td>\n",
       "    </tr>\n",
       "  </tbody>\n",
       "</table>\n",
       "</div>"
      ],
      "text/plain": [
       "   roll no            Name education\n",
       "0        1         Sir Zia    Master\n",
       "1        2        Sir Inam    Master\n",
       "2        3  Muhammad Qasim    Master"
      ]
     },
     "execution_count": 15,
     "metadata": {},
     "output_type": "execute_result"
    }
   ],
   "source": [
    "import pandas as pd\n",
    "from typing import Any\n",
    "\n",
    "students_data : Dict[str,list[Any]] =  {\n",
    "                                        \"roll no\": [1,2,3],\n",
    "                                        \"Name\": [\"Sir Zia\",\"Sir Inam\",\"Muhammad Qasim\"],\n",
    "                                        \"education\": [\"Master\",\"Master\",\"Master\"]\n",
    "                                        }\n",
    "df : pd.DataFrame = pd.DataFrame(students_data)\n",
    "df\n",
    "\n",
    "\n",
    "\n",
    "\n",
    "\n",
    "\n",
    "\n"
   ]
  },
  {
   "cell_type": "code",
   "execution_count": null,
   "metadata": {},
   "outputs": [
    {
     "name": "stdout",
     "output_type": "stream",
     "text": [
      "original position: 0 \n",
      "new position: 2\n"
     ]
    }
   ],
   "source": [
    "alien_0 = {'x_position': 0, 'y_position': 25, 'speed': 'medium'}\n",
    "print(f\"original position: {alien_0['x_position']} \")\n",
    "alien_0['speed'] == \"fast\"\n",
    "if alien_0['speed']=='slow':\n",
    "    x_increment = 1\n",
    "elif alien_0[\"speed\"] == \"medium\":\n",
    "    x_increment = 2\n",
    "else:\n",
    "    x_increment = 3\n",
    "\n",
    "alien_0[\"x_position\"] += x_increment\n",
    "print(f\"new position: {alien_0[\"x_position\"]}\")"
   ]
  },
  {
   "cell_type": "code",
   "execution_count": null,
   "metadata": {},
   "outputs": [
    {
     "name": "stdout",
     "output_type": "stream",
     "text": [
      "{'fname': 'Muhammad Aslam', 'name': 'M.Qasim', 'education': 'MSDS'}\n"
     ]
    }
   ],
   "source": [
    "Key = Union[int,str] # create custom type\n",
    "Value = Union[int, str, list, dict, tuple, set]\n",
    "\n",
    "data : Dict[Key,Value] = {\n",
    "                        \"fname\":\"Muhammad Aslam\",\n",
    "                        \"name\":\"Muhammad Qasim\",\n",
    "                        \"education\": \"MSDS\",\n",
    "                        \"name\":\"M.Qasim\"}\n",
    "\n",
    "print(data)"
   ]
  },
  {
   "cell_type": "code",
   "execution_count": null,
   "metadata": {},
   "outputs": [
    {
     "name": "stdout",
     "output_type": "stream",
     "text": [
      "Sarah favorite languae is Python\n"
     ]
    }
   ],
   "source": [
    "#using title in Dict\n",
    "favorite_languages =  {\n",
    "      'jen': 'python',\n",
    "      'sarah': 'c',\n",
    "      'edward': 'rust',\n",
    "      'phil': 'python',\n",
    "      }\n",
    "laguage = favorite_languages['jen'].title()\n",
    "print(f\"Sarah favorite languae is {laguage.title()}\")"
   ]
  },
  {
   "cell_type": "code",
   "execution_count": null,
   "metadata": {},
   "outputs": [
    {
     "name": "stdout",
     "output_type": "stream",
     "text": [
      "Hi Jen\n",
      "Hi Sarah\n",
      "\t Sarah I see your love C!\n",
      "Hi Edward\n",
      "Hi Phil\n",
      "\t Phil I see your love Python!\n"
     ]
    }
   ],
   "source": [
    "# Using for and if in Dict\n",
    "favorite_languages = {\n",
    "      'jen': 'python',\n",
    "      'sarah': 'c',\n",
    "      'edward': 'rust',\n",
    "      'phil': 'python',\n",
    "      }\n",
    "\n",
    "friends = ['phil', 'sarah']\n",
    "for name in favorite_languages.keys():\n",
    "    print(f\"Hi {name.title()}\")\n",
    "    if name in friends:\n",
    "        language=favorite_languages[name].title()\n",
    "        print(f'\\t {name.title()} I see your love {language}!')"
   ]
  },
  {
   "cell_type": "code",
   "execution_count": null,
   "metadata": {},
   "outputs": [
    {
     "name": "stdout",
     "output_type": "stream",
     "text": [
      "True\n",
      "dict_keys(['jen', 'sarah', 'edward', 'phil'])\n"
     ]
    }
   ],
   "source": [
    "print(\"eric\" not in favorite_languages)\n",
    "print(favorite_languages.keys())"
   ]
  },
  {
   "cell_type": "code",
   "execution_count": null,
   "metadata": {},
   "outputs": [
    {
     "data": {
      "text/plain": [
       "True"
      ]
     },
     "execution_count": 21,
     "metadata": {},
     "output_type": "execute_result"
    }
   ],
   "source": [
    "\"Ijaz\" in \"My name is Ijaz Ahmad Qureshi and i am a Python developer\""
   ]
  },
  {
   "cell_type": "code",
   "execution_count": null,
   "metadata": {},
   "outputs": [
    {
     "name": "stdout",
     "output_type": "stream",
     "text": [
      "eric Please take our pole!\n"
     ]
    }
   ],
   "source": [
    "if \"eric\" not in favorite_languages.keys():\n",
    "    print(\"eric Please take our pole!\")"
   ]
  },
  {
   "cell_type": "code",
   "execution_count": null,
   "metadata": {},
   "outputs": [
    {
     "name": "stdout",
     "output_type": "stream",
     "text": [
      "{'color': 'green', 'points': 5}\n",
      "{'color': 'yellow', 'points': 10}\n",
      "{'color': 'red', 'points': 15}\n"
     ]
    }
   ],
   "source": [
    "alien_0: list[Key, Value] = {'color': 'green', 'points': 5}\n",
    "alien_1: list[Key, Value] = {'color': 'yellow', 'points': 10}\n",
    "alien_2: list[Key, Value] = {'color': 'red', 'points': 15}\n",
    "aliens : list[ Dict[str,str]] = [alien_0,alien_1,alien_2]\n",
    "for alien in aliens:\n",
    "    print(alien)"
   ]
  },
  {
   "cell_type": "code",
   "execution_count": null,
   "metadata": {},
   "outputs": [
    {
     "name": "stdout",
     "output_type": "stream",
     "text": [
      "[]\n",
      "[{'color': 'green', 'position': 5, 'speed': 'slow'},\n",
      " {'color': 'green', 'position': 5, 'speed': 'slow'},\n",
      " {'color': 'green', 'position': 5, 'speed': 'slow'},\n",
      " {'color': 'green', 'position': 5, 'speed': 'slow'},\n",
      " {'color': 'green', 'position': 5, 'speed': 'slow'},\n",
      " {'color': 'green', 'position': 5, 'speed': 'slow'},\n",
      " {'color': 'green', 'position': 5, 'speed': 'slow'},\n",
      " {'color': 'green', 'position': 5, 'speed': 'slow'},\n",
      " {'color': 'green', 'position': 5, 'speed': 'slow'},\n",
      " {'color': 'green', 'position': 5, 'speed': 'slow'},\n",
      " {'color': 'green', 'position': 5, 'speed': 'slow'},\n",
      " {'color': 'green', 'position': 5, 'speed': 'slow'},\n",
      " {'color': 'green', 'position': 5, 'speed': 'slow'},\n",
      " {'color': 'green', 'position': 5, 'speed': 'slow'},\n",
      " {'color': 'green', 'position': 5, 'speed': 'slow'},\n",
      " {'color': 'green', 'position': 5, 'speed': 'slow'},\n",
      " {'color': 'green', 'position': 5, 'speed': 'slow'},\n",
      " {'color': 'green', 'position': 5, 'speed': 'slow'},\n",
      " {'color': 'green', 'position': 5, 'speed': 'slow'},\n",
      " {'color': 'green', 'position': 5, 'speed': 'slow'},\n",
      " {'color': 'green', 'position': 5, 'speed': 'slow'},\n",
      " {'color': 'green', 'position': 5, 'speed': 'slow'},\n",
      " {'color': 'green', 'position': 5, 'speed': 'slow'},\n",
      " {'color': 'green', 'position': 5, 'speed': 'slow'},\n",
      " {'color': 'green', 'position': 5, 'speed': 'slow'},\n",
      " {'color': 'green', 'position': 5, 'speed': 'slow'},\n",
      " {'color': 'green', 'position': 5, 'speed': 'slow'},\n",
      " {'color': 'green', 'position': 5, 'speed': 'slow'},\n",
      " {'color': 'green', 'position': 5, 'speed': 'slow'},\n",
      " {'color': 'green', 'position': 5, 'speed': 'slow'}]\n"
     ]
    }
   ],
   "source": [
    "import pprint\n",
    "aliens : list[Dict[str,str]] = []\n",
    "print(aliens)\n",
    "for alien in range(30):\n",
    "    new_aliens = {'color': 'green', 'points': 5, 'speed':'slow'}\n",
    "    aliens.append(new_aliens)\n",
    "pprint.pprint(aliens)"
   ]
  },
  {
   "cell_type": "code",
   "execution_count": null,
   "metadata": {},
   "outputs": [
    {
     "name": "stdout",
     "output_type": "stream",
     "text": [
      "[{'color': 'green', 'position': 5, 'speed': 'slow'},\n",
      " {'color': 'green', 'position': 5, 'speed': 'slow'},\n",
      " {'color': 'green', 'position': 5, 'speed': 'slow'},\n",
      " {'color': 'green', 'position': 5, 'speed': 'slow'},\n",
      " {'color': 'green', 'position': 5, 'speed': 'slow'}]\n"
     ]
    }
   ],
   "source": [
    "pprint.pprint(aliens[:5])"
   ]
  },
  {
   "cell_type": "code",
   "execution_count": 40,
   "metadata": {},
   "outputs": [
    {
     "data": {
      "text/plain": [
       "[{'color': 'yellow', 'position': 5, 'speed': 'medium', 'points': 10},\n",
       " {'color': 'yellow', 'position': 5, 'speed': 'medium', 'points': 10},\n",
       " {'color': 'yellow', 'position': 5, 'speed': 'medium', 'points': 10},\n",
       " {'color': 'green', 'position': 5, 'speed': 'slow'},\n",
       " {'color': 'green', 'position': 5, 'speed': 'slow'},\n",
       " {'color': 'green', 'position': 5, 'speed': 'slow'},\n",
       " {'color': 'green', 'position': 5, 'speed': 'slow'},\n",
       " {'color': 'green', 'position': 5, 'speed': 'slow'},\n",
       " {'color': 'green', 'position': 5, 'speed': 'slow'},\n",
       " {'color': 'green', 'position': 5, 'speed': 'slow'}]"
      ]
     },
     "execution_count": 40,
     "metadata": {},
     "output_type": "execute_result"
    }
   ],
   "source": [
    "for alien in aliens[:3]:\n",
    "    if alien['color'] == 'green':\n",
    "        alien['color'] = 'yellow'\n",
    "        alien['speed'] = 'medium'\n",
    "        alien['points'] = 10\n",
    "aliens[:10]\n",
    "        "
   ]
  },
  {
   "cell_type": "code",
   "execution_count": 41,
   "metadata": {},
   "outputs": [
    {
     "data": {
      "text/plain": [
       "[{'color': 'red', 'position': 5, 'speed': 'fast', 'points': 15},\n",
       " {'color': 'red', 'position': 5, 'speed': 'fast', 'points': 15},\n",
       " {'color': 'red', 'position': 5, 'speed': 'fast', 'points': 15},\n",
       " {'color': 'green', 'position': 5, 'speed': 'slow'},\n",
       " {'color': 'green', 'position': 5, 'speed': 'slow'},\n",
       " {'color': 'green', 'position': 5, 'speed': 'slow'},\n",
       " {'color': 'green', 'position': 5, 'speed': 'slow'},\n",
       " {'color': 'green', 'position': 5, 'speed': 'slow'},\n",
       " {'color': 'green', 'position': 5, 'speed': 'slow'},\n",
       " {'color': 'green', 'position': 5, 'speed': 'slow'},\n",
       " {'color': 'green', 'position': 5, 'speed': 'slow'},\n",
       " {'color': 'green', 'position': 5, 'speed': 'slow'},\n",
       " {'color': 'green', 'position': 5, 'speed': 'slow'},\n",
       " {'color': 'green', 'position': 5, 'speed': 'slow'},\n",
       " {'color': 'green', 'position': 5, 'speed': 'slow'},\n",
       " {'color': 'green', 'position': 5, 'speed': 'slow'},\n",
       " {'color': 'green', 'position': 5, 'speed': 'slow'},\n",
       " {'color': 'green', 'position': 5, 'speed': 'slow'},\n",
       " {'color': 'green', 'position': 5, 'speed': 'slow'},\n",
       " {'color': 'green', 'position': 5, 'speed': 'slow'},\n",
       " {'color': 'green', 'position': 5, 'speed': 'slow'},\n",
       " {'color': 'green', 'position': 5, 'speed': 'slow'},\n",
       " {'color': 'green', 'position': 5, 'speed': 'slow'},\n",
       " {'color': 'green', 'position': 5, 'speed': 'slow'},\n",
       " {'color': 'green', 'position': 5, 'speed': 'slow'},\n",
       " {'color': 'green', 'position': 5, 'speed': 'slow'},\n",
       " {'color': 'green', 'position': 5, 'speed': 'slow'},\n",
       " {'color': 'green', 'position': 5, 'speed': 'slow'},\n",
       " {'color': 'green', 'position': 5, 'speed': 'slow'},\n",
       " {'color': 'green', 'position': 5, 'speed': 'slow'}]"
      ]
     },
     "execution_count": 41,
     "metadata": {},
     "output_type": "execute_result"
    }
   ],
   "source": [
    "for alien in aliens[0:3]:\n",
    "    if  alien['color'] == 'green':\n",
    "        alien['color'] = 'yellow'\n",
    "        alien['speed'] = 'medium'\n",
    "        alien['points'] = 10\n",
    "    elif alien['color'] == 'yellow':\n",
    "        alien['color'] = 'red'\n",
    "        alien['speed'] = 'fast'\n",
    "        alien['points'] = 15\n",
    "aliens\n"
   ]
  },
  {
   "cell_type": "code",
   "execution_count": 42,
   "metadata": {},
   "outputs": [
    {
     "name": "stdout",
     "output_type": "stream",
     "text": [
      "{'fname': 'Muhammad Aslam', 'name': 'Muhammad Qasim', 'education': 'MSDS'}\n",
      "<class 'dict'>\n"
     ]
    }
   ],
   "source": [
    "Key = Union[int,str] # create custom type\n",
    "Value = Union[int, str, list, dict, tuple, set]\n",
    "\n",
    "data : Dict[Key,Value] = {\n",
    "                        \"fname\":\"Muhammad Aslam\",\n",
    "                        \"name\":\"Muhammad Qasim\",\n",
    "                        \"education\": \"MSDS\"}\n",
    "\n",
    "print(data)\n",
    "print(type(data))"
   ]
  },
  {
   "cell_type": "code",
   "execution_count": 45,
   "metadata": {},
   "outputs": [
    {
     "name": "stdout",
     "output_type": "stream",
     "text": [
      "('{\\n'\n",
      " '    \"fname\": \"Muhammad Aslam\",\\n'\n",
      " '    \"name\": \"Muhammad Qasim\",\\n'\n",
      " '    \"education\": \"MSDS\"\\n'\n",
      " '}')\n"
     ]
    }
   ],
   "source": [
    "import json\n",
    "data1 = json.dumps(data,indent=4)\n",
    "pprint.pprint(data1)\n",
    "#display(data)"
   ]
  },
  {
   "cell_type": "markdown",
   "metadata": {},
   "source": [
    "# Nested Dictionary error solution"
   ]
  },
  {
   "cell_type": "code",
   "execution_count": 46,
   "metadata": {},
   "outputs": [
    {
     "name": "stdout",
     "output_type": "stream",
     "text": [
      "2\n"
     ]
    }
   ],
   "source": [
    "from typing import Union, TypedDict, Tuple, Set, List\n",
    "import pprint\n",
    "\n",
    "cdeDataType = TypedDict(\n",
    "    'cdeDataType',\n",
    "    {\n",
    "        \"a\": int,\n",
    "        \"b\": int\n",
    "    }\n",
    ")\n",
    "\n",
    "myDataType = TypedDict(\n",
    "    'myDataType', {\n",
    "        \"fname\": str,\n",
    "        \"name\": str,\n",
    "        \"education\": str,\n",
    "        \"abc\": List[int],\n",
    "        'xyz': Set[int],\n",
    "        'efg': Tuple,\n",
    "        'cde': cdeDataType\n",
    "    }\n",
    ")\n",
    "\n",
    "\n",
    "# Key = Union[int, str]  # create custom type\n",
    "# Value = Union[int, str, list, tuple, set]\n",
    "\n",
    "\n",
    "data: myDataType = {\n",
    "    \"fname\": \"Muhammad Aslam\",\n",
    "    \"name\": \"Muhammad Qasim\",\n",
    "    \"education\": \"MSDS\",\n",
    "    \"abc\": [1, 2, 3],\n",
    "    'xyz': {1, 2, 3},\n",
    "    'efg': (1, 2, 3),\n",
    "    'cde': {\"a\": 1, \"b\": 2}\n",
    "}\n",
    "\n",
    "print(data['cde']['b'])"
   ]
  },
  {
   "cell_type": "code",
   "execution_count": null,
   "metadata": {},
   "outputs": [],
   "source": []
  }
 ],
 "metadata": {
  "kernelspec": {
   "display_name": "python12",
   "language": "python",
   "name": "python3"
  },
  "language_info": {
   "codemirror_mode": {
    "name": "ipython",
    "version": 3
   },
   "file_extension": ".py",
   "mimetype": "text/x-python",
   "name": "python",
   "nbconvert_exporter": "python",
   "pygments_lexer": "ipython3",
   "version": "3.12.0"
  }
 },
 "nbformat": 4,
 "nbformat_minor": 2
}
