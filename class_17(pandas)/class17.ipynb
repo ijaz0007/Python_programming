{
 "cells": [
  {
   "cell_type": "code",
   "execution_count": 3,
   "metadata": {},
   "outputs": [
    {
     "name": "stdout",
     "output_type": "stream",
     "text": [
      "Requirement already satisfied: pandera in c:\\users\\ijaza\\anaconda3\\envs\\python12\\lib\\site-packages (0.20.3)\n",
      "Requirement already satisfied: multimethod<=1.10.0 in c:\\users\\ijaza\\anaconda3\\envs\\python12\\lib\\site-packages (from pandera) (1.10)\n",
      "Requirement already satisfied: numpy>=1.19.0 in c:\\users\\ijaza\\anaconda3\\envs\\python12\\lib\\site-packages (from pandera) (1.26.4)\n",
      "Requirement already satisfied: packaging>=20.0 in c:\\users\\ijaza\\appdata\\roaming\\python\\python312\\site-packages (from pandera) (24.1)\n",
      "Requirement already satisfied: pandas>=1.2.0 in c:\\users\\ijaza\\anaconda3\\envs\\python12\\lib\\site-packages (from pandera) (2.2.2)\n",
      "Requirement already satisfied: pydantic in c:\\users\\ijaza\\anaconda3\\envs\\python12\\lib\\site-packages (from pandera) (2.7.4)\n",
      "Requirement already satisfied: typeguard in c:\\users\\ijaza\\anaconda3\\envs\\python12\\lib\\site-packages (from pandera) (4.3.0)\n",
      "Requirement already satisfied: typing-inspect>=0.6.0 in c:\\users\\ijaza\\anaconda3\\envs\\python12\\lib\\site-packages (from pandera) (0.9.0)\n",
      "Requirement already satisfied: wrapt in c:\\users\\ijaza\\anaconda3\\envs\\python12\\lib\\site-packages (from pandera) (1.16.0)\n",
      "Requirement already satisfied: python-dateutil>=2.8.2 in c:\\users\\ijaza\\appdata\\roaming\\python\\python312\\site-packages (from pandas>=1.2.0->pandera) (2.9.0.post0)\n",
      "Requirement already satisfied: pytz>=2020.1 in c:\\users\\ijaza\\anaconda3\\envs\\python12\\lib\\site-packages (from pandas>=1.2.0->pandera) (2024.1)\n",
      "Requirement already satisfied: tzdata>=2022.7 in c:\\users\\ijaza\\anaconda3\\envs\\python12\\lib\\site-packages (from pandas>=1.2.0->pandera) (2024.1)\n",
      "Requirement already satisfied: mypy-extensions>=0.3.0 in c:\\users\\ijaza\\anaconda3\\envs\\python12\\lib\\site-packages (from typing-inspect>=0.6.0->pandera) (1.0.0)\n",
      "Requirement already satisfied: typing-extensions>=3.7.4 in c:\\users\\ijaza\\anaconda3\\envs\\python12\\lib\\site-packages (from typing-inspect>=0.6.0->pandera) (4.12.2)\n",
      "Requirement already satisfied: annotated-types>=0.4.0 in c:\\users\\ijaza\\anaconda3\\envs\\python12\\lib\\site-packages (from pydantic->pandera) (0.7.0)\n",
      "Requirement already satisfied: pydantic-core==2.18.4 in c:\\users\\ijaza\\anaconda3\\envs\\python12\\lib\\site-packages (from pydantic->pandera) (2.18.4)\n",
      "Requirement already satisfied: six>=1.5 in c:\\users\\ijaza\\appdata\\roaming\\python\\python312\\site-packages (from python-dateutil>=2.8.2->pandas>=1.2.0->pandera) (1.16.0)\n"
     ]
    }
   ],
   "source": [
    "import pandas as pd\n",
    "!pip install pandera\n"
   ]
  },
  {
   "cell_type": "markdown",
   "metadata": {},
   "source": [
    "# Pandas core components"
   ]
  },
  {
   "cell_type": "markdown",
   "metadata": {},
   "source": [
    "* Series types\n",
    "* DataFrame types"
   ]
  },
  {
   "cell_type": "code",
   "execution_count": 4,
   "metadata": {},
   "outputs": [
    {
     "data": {
      "text/plain": [
       "[1, 2, 3, 4, 5, 6, 7, 8, 9]"
      ]
     },
     "execution_count": 4,
     "metadata": {},
     "output_type": "execute_result"
    }
   ],
   "source": [
    "l1 : list[int] = [1,2,3,4,5,6,7,8,9]\n",
    "l1"
   ]
  },
  {
   "cell_type": "code",
   "execution_count": 5,
   "metadata": {},
   "outputs": [
    {
     "data": {
      "text/plain": [
       "0    1\n",
       "1    2\n",
       "2    3\n",
       "3    4\n",
       "4    5\n",
       "5    6\n",
       "6    7\n",
       "7    8\n",
       "8    9\n",
       "dtype: int64"
      ]
     },
     "execution_count": 5,
     "metadata": {},
     "output_type": "execute_result"
    }
   ],
   "source": [
    "#  from list: we can use for creating series\n",
    "ser : pd.Series = pd.Series([1,2,3,4,5,6,7,8,9])\n",
    "ser"
   ]
  },
  {
   "cell_type": "code",
   "execution_count": 6,
   "metadata": {},
   "outputs": [
    {
     "data": {
      "text/plain": [
       "0    1\n",
       "1    2\n",
       "2    3\n",
       "3    4\n",
       "4    5\n",
       "dtype: int64"
      ]
     },
     "execution_count": 6,
     "metadata": {},
     "output_type": "execute_result"
    }
   ],
   "source": [
    "# from tuple: we can also create series\n",
    "s1 : pd.Series = pd.Series((1,2,3,4,5))\n",
    "s1"
   ]
  },
  {
   "cell_type": "code",
   "execution_count": 7,
   "metadata": {},
   "outputs": [
    {
     "data": {
      "text/plain": [
       "a    10\n",
       "b    20\n",
       "c    30\n",
       "d    40\n",
       "e    50\n",
       "f    60\n",
       "g    70\n",
       "dtype: int64"
      ]
     },
     "execution_count": 7,
     "metadata": {},
     "output_type": "execute_result"
    }
   ],
   "source": [
    "# from Dictionary: we also create series\n",
    "\n",
    "s2 : pd.Series = pd.Series({\"a\": 10,\n",
    "                            \"b\":20,\n",
    "                            \"c\":30,\n",
    "                            \"d\":40,\n",
    "                            \"e\":50,\n",
    "                            \"f\":60,\n",
    "                            \"g\":70,})\n",
    "s2"
   ]
  },
  {
   "cell_type": "code",
   "execution_count": 8,
   "metadata": {},
   "outputs": [
    {
     "ename": "TypeError",
     "evalue": "'set' type is unordered",
     "output_type": "error",
     "traceback": [
      "\u001b[1;31m---------------------------------------------------------------------------\u001b[0m",
      "\u001b[1;31mTypeError\u001b[0m                                 Traceback (most recent call last)",
      "Cell \u001b[1;32mIn[8], line 3\u001b[0m\n\u001b[0;32m      1\u001b[0m \u001b[38;5;66;03m# Set: we cannot use for creating series\u001b[39;00m\n\u001b[1;32m----> 3\u001b[0m s1 : pd\u001b[38;5;241m.\u001b[39mSeries \u001b[38;5;241m=\u001b[39m \u001b[43mpd\u001b[49m\u001b[38;5;241;43m.\u001b[39;49m\u001b[43mSeries\u001b[49m\u001b[43m(\u001b[49m\u001b[43m{\u001b[49m\u001b[38;5;241;43m1\u001b[39;49m\u001b[43m,\u001b[49m\u001b[38;5;241;43m2\u001b[39;49m\u001b[43m,\u001b[49m\u001b[38;5;241;43m3\u001b[39;49m\u001b[43m,\u001b[49m\u001b[38;5;241;43m4\u001b[39;49m\u001b[43m,\u001b[49m\u001b[38;5;241;43m5\u001b[39;49m\u001b[43m}\u001b[49m\u001b[43m)\u001b[49m\n\u001b[0;32m      4\u001b[0m s1\n",
      "File \u001b[1;32mc:\\Users\\ijaza\\anaconda3\\envs\\python12\\Lib\\site-packages\\pandas\\core\\series.py:584\u001b[0m, in \u001b[0;36mSeries.__init__\u001b[1;34m(self, data, index, dtype, name, copy, fastpath)\u001b[0m\n\u001b[0;32m    582\u001b[0m         data \u001b[38;5;241m=\u001b[39m data\u001b[38;5;241m.\u001b[39mcopy()\n\u001b[0;32m    583\u001b[0m \u001b[38;5;28;01melse\u001b[39;00m:\n\u001b[1;32m--> 584\u001b[0m     data \u001b[38;5;241m=\u001b[39m \u001b[43msanitize_array\u001b[49m\u001b[43m(\u001b[49m\u001b[43mdata\u001b[49m\u001b[43m,\u001b[49m\u001b[43m \u001b[49m\u001b[43mindex\u001b[49m\u001b[43m,\u001b[49m\u001b[43m \u001b[49m\u001b[43mdtype\u001b[49m\u001b[43m,\u001b[49m\u001b[43m \u001b[49m\u001b[43mcopy\u001b[49m\u001b[43m)\u001b[49m\n\u001b[0;32m    586\u001b[0m     manager \u001b[38;5;241m=\u001b[39m _get_option(\u001b[38;5;124m\"\u001b[39m\u001b[38;5;124mmode.data_manager\u001b[39m\u001b[38;5;124m\"\u001b[39m, silent\u001b[38;5;241m=\u001b[39m\u001b[38;5;28;01mTrue\u001b[39;00m)\n\u001b[0;32m    587\u001b[0m     \u001b[38;5;28;01mif\u001b[39;00m manager \u001b[38;5;241m==\u001b[39m \u001b[38;5;124m\"\u001b[39m\u001b[38;5;124mblock\u001b[39m\u001b[38;5;124m\"\u001b[39m:\n",
      "File \u001b[1;32mc:\\Users\\ijaza\\anaconda3\\envs\\python12\\Lib\\site-packages\\pandas\\core\\construction.py:642\u001b[0m, in \u001b[0;36msanitize_array\u001b[1;34m(data, index, dtype, copy, allow_2d)\u001b[0m\n\u001b[0;32m    633\u001b[0m     \u001b[38;5;28;01mreturn\u001b[39;00m sanitize_array(\n\u001b[0;32m    634\u001b[0m         data,\n\u001b[0;32m    635\u001b[0m         index\u001b[38;5;241m=\u001b[39mindex,\n\u001b[1;32m   (...)\u001b[0m\n\u001b[0;32m    638\u001b[0m         allow_2d\u001b[38;5;241m=\u001b[39mallow_2d,\n\u001b[0;32m    639\u001b[0m     )\n\u001b[0;32m    641\u001b[0m \u001b[38;5;28;01melse\u001b[39;00m:\n\u001b[1;32m--> 642\u001b[0m     \u001b[43m_sanitize_non_ordered\u001b[49m\u001b[43m(\u001b[49m\u001b[43mdata\u001b[49m\u001b[43m)\u001b[49m\n\u001b[0;32m    643\u001b[0m     \u001b[38;5;66;03m# materialize e.g. generators, convert e.g. tuples, abc.ValueView\u001b[39;00m\n\u001b[0;32m    644\u001b[0m     data \u001b[38;5;241m=\u001b[39m \u001b[38;5;28mlist\u001b[39m(data)\n",
      "File \u001b[1;32mc:\\Users\\ijaza\\anaconda3\\envs\\python12\\Lib\\site-packages\\pandas\\core\\construction.py:693\u001b[0m, in \u001b[0;36m_sanitize_non_ordered\u001b[1;34m(data)\u001b[0m\n\u001b[0;32m    689\u001b[0m \u001b[38;5;250m\u001b[39m\u001b[38;5;124;03m\"\"\"\u001b[39;00m\n\u001b[0;32m    690\u001b[0m \u001b[38;5;124;03mRaise only for unordered sets, e.g., not for dict_keys\u001b[39;00m\n\u001b[0;32m    691\u001b[0m \u001b[38;5;124;03m\"\"\"\u001b[39;00m\n\u001b[0;32m    692\u001b[0m \u001b[38;5;28;01mif\u001b[39;00m \u001b[38;5;28misinstance\u001b[39m(data, (\u001b[38;5;28mset\u001b[39m, \u001b[38;5;28mfrozenset\u001b[39m)):\n\u001b[1;32m--> 693\u001b[0m     \u001b[38;5;28;01mraise\u001b[39;00m \u001b[38;5;167;01mTypeError\u001b[39;00m(\u001b[38;5;124mf\u001b[39m\u001b[38;5;124m\"\u001b[39m\u001b[38;5;124m'\u001b[39m\u001b[38;5;132;01m{\u001b[39;00m\u001b[38;5;28mtype\u001b[39m(data)\u001b[38;5;241m.\u001b[39m\u001b[38;5;18m__name__\u001b[39m\u001b[38;5;132;01m}\u001b[39;00m\u001b[38;5;124m'\u001b[39m\u001b[38;5;124m type is unordered\u001b[39m\u001b[38;5;124m\"\u001b[39m)\n",
      "\u001b[1;31mTypeError\u001b[0m: 'set' type is unordered"
     ]
    }
   ],
   "source": [
    "# Set: we cannot use for creating series\n",
    "\n",
    "s1 : pd.Series = pd.Series({1,2,3,4,5})\n",
    "s1"
   ]
  },
  {
   "cell_type": "code",
   "execution_count": null,
   "metadata": {},
   "outputs": [
    {
     "data": {
      "text/plain": [
       "a    1\n",
       "b    2\n",
       "c    3\n",
       "d    4\n",
       "e    5\n",
       "dtype: int64"
      ]
     },
     "execution_count": 12,
     "metadata": {},
     "output_type": "execute_result"
    }
   ],
   "source": [
    "values : list[int] = [1, 2, 3, 4, 5]\n",
    "indexes : list[str] = [\"a\",\"b\",\"c\",\"d\",\"e\"]\n",
    "\n",
    "s3 : pd.Series = pd.Series(values, indexes)\n",
    "s3"
   ]
  },
  {
   "cell_type": "code",
   "execution_count": null,
   "metadata": {},
   "outputs": [
    {
     "data": {
      "text/plain": [
       "a1  a    1\n",
       "    b    2\n",
       "    c    3\n",
       "b1  d    4\n",
       "    e    5\n",
       "dtype: int64"
      ]
     },
     "execution_count": 13,
     "metadata": {},
     "output_type": "execute_result"
    }
   ],
   "source": [
    "values : list[int] = [1, 2, 3, 4, 5]\n",
    "index1 : list[list[str]] = [['a1', 'a1', 'a1', 'b1', 'b1'], ['a', 'b', 'c', 'd', 'e']]\n",
    "s4 : pd.Series = pd.Series(values,index1)\n",
    "s4"
   ]
  },
  {
   "cell_type": "code",
   "execution_count": null,
   "metadata": {},
   "outputs": [
    {
     "data": {
      "text/plain": [
       "a1  a    1\n",
       "    b    2\n",
       "    c    3\n",
       "b1  d    4\n",
       "    e    5\n",
       "Name: Student_data, dtype: int64"
      ]
     },
     "execution_count": 15,
     "metadata": {},
     "output_type": "execute_result"
    }
   ],
   "source": [
    "values : list[int] = [1, 2, 3, 4, 5]\n",
    "index1 : list[list[str]] = [['a1', 'a1', 'a1', 'b1', 'b1'], ['a', 'b', 'c', 'd', 'e']]\n",
    "s5 : pd.Series = pd.Series(values, index= index1, name=\"Student_data\")\n",
    "s5"
   ]
  },
  {
   "cell_type": "code",
   "execution_count": null,
   "metadata": {},
   "outputs": [
    {
     "data": {
      "text/plain": [
       "a1  a    1\n",
       "    b    2\n",
       "    c    3\n",
       "b1  d    4\n",
       "    e    5\n",
       "Name: Student_data, dtype: int32"
      ]
     },
     "execution_count": 16,
     "metadata": {},
     "output_type": "execute_result"
    }
   ],
   "source": [
    "import numpy as np\n",
    "values : list[int] = [1, 2, 3, 4, 5]\n",
    "\n",
    "index1 : list[list[str]] = [['a1', 'a1', 'a1', 'b1', 'b1'],\n",
    "                            ['a', 'b', 'c', 'd', 'e']]\n",
    "\n",
    "s5 : pd.Series = pd.Series(values, index=index1, name=\"Student_data\",dtype=np.int32)\n",
    "s5"
   ]
  },
  {
   "cell_type": "code",
   "execution_count": null,
   "metadata": {},
   "outputs": [
    {
     "name": "stdout",
     "output_type": "stream",
     "text": [
      "   column1  column2  column3\n",
      "0        1     -1.3  value_1\n",
      "1        4     -1.4  value_2\n",
      "2        0     -2.9  value_3\n",
      "3       10    -10.1  value_2\n",
      "4        9    -20.4  value_1\n"
     ]
    }
   ],
   "source": [
    "import pandas as pd\n",
    "import pandera as pa\n",
    "\n",
    "# data to validate\n",
    "df = pd.DataFrame({\n",
    "    \"column1\": [1, 4, 0, 10, 9],\n",
    "    \"column2\": [-1.3, -1.4, -2.9, -10.1, -20.4],\n",
    "    \"column3\": [\"value_1\", \"value_2\", \"value_3\", \"value_2\", \"value_1\"],\n",
    "})\n",
    "\n",
    "# define schema\n",
    "schema = pa.DataFrameSchema({\n",
    "    \"column1\": pa.Column(int, checks=pa.Check.le(10)),\n",
    "    \"column2\": pa.Column(float, checks=pa.Check.lt(-1.2)),\n",
    "    \"column3\": pa.Column(str, checks=[\n",
    "        pa.Check.str_startswith(\"value_\"),\n",
    "        # define custom checks as functions that take a series as input and\n",
    "        # outputs a boolean or boolean Series\n",
    "        pa.Check(lambda s: s.str.split(\"_\", expand=True).shape[1] == 2)\n",
    "    ]),\n",
    "})\n",
    "\n",
    "validated_df = schema(df)\n",
    "print(validated_df)"
   ]
  },
  {
   "cell_type": "markdown",
   "metadata": {},
   "source": [
    "# DataFrame"
   ]
  },
  {
   "cell_type": "code",
   "execution_count": null,
   "metadata": {},
   "outputs": [
    {
     "data": {
      "text/html": [
       "<div>\n",
       "<style scoped>\n",
       "    .dataframe tbody tr th:only-of-type {\n",
       "        vertical-align: middle;\n",
       "    }\n",
       "\n",
       "    .dataframe tbody tr th {\n",
       "        vertical-align: top;\n",
       "    }\n",
       "\n",
       "    .dataframe thead th {\n",
       "        text-align: right;\n",
       "    }\n",
       "</style>\n",
       "<table border=\"1\" class=\"dataframe\">\n",
       "  <thead>\n",
       "    <tr style=\"text-align: right;\">\n",
       "      <th></th>\n",
       "      <th>student_id</th>\n",
       "      <th>score</th>\n",
       "      <th>student_name</th>\n",
       "    </tr>\n",
       "  </thead>\n",
       "  <tbody>\n",
       "    <tr>\n",
       "      <th>0</th>\n",
       "      <td>1</td>\n",
       "      <td>10</td>\n",
       "      <td>Hamza</td>\n",
       "    </tr>\n",
       "    <tr>\n",
       "      <th>1</th>\n",
       "      <td>2</td>\n",
       "      <td>20</td>\n",
       "      <td>Ali</td>\n",
       "    </tr>\n",
       "    <tr>\n",
       "      <th>2</th>\n",
       "      <td>3</td>\n",
       "      <td>30</td>\n",
       "      <td>Junaid</td>\n",
       "    </tr>\n",
       "    <tr>\n",
       "      <th>3</th>\n",
       "      <td>4</td>\n",
       "      <td>40</td>\n",
       "      <td>Rashid</td>\n",
       "    </tr>\n",
       "    <tr>\n",
       "      <th>4</th>\n",
       "      <td>5</td>\n",
       "      <td>50</td>\n",
       "      <td>Konain</td>\n",
       "    </tr>\n",
       "  </tbody>\n",
       "</table>\n",
       "</div>"
      ],
      "text/plain": [
       "   student_id  score student_name\n",
       "0           1     10        Hamza\n",
       "1           2     20          Ali\n",
       "2           3     30       Junaid\n",
       "3           4     40       Rashid\n",
       "4           5     50       Konain"
      ]
     },
     "execution_count": 21,
     "metadata": {},
     "output_type": "execute_result"
    }
   ],
   "source": [
    "c1 : pd.Series = pd.Series([1,2,3,4,5], name = \"student_id\")\n",
    "c2 : pd.Series = pd.Series([10,20,30,40,50], name = \"score\")\n",
    "c3 : pd.Series = pd.Series([\"Hamza\",\"Ali\",\"Junaid\",\"Rashid\",\"Konain\"], name= \"student_name\")\n",
    "\n",
    "df1 : pd.DataFrame = pd.DataFrame({\"student_id\":c1, \"score\" : c2, \"student_name\" : c3})\n",
    "df1 "
   ]
  },
  {
   "cell_type": "code",
   "execution_count": null,
   "metadata": {},
   "outputs": [
    {
     "data": {
      "text/html": [
       "<div>\n",
       "<style scoped>\n",
       "    .dataframe tbody tr th:only-of-type {\n",
       "        vertical-align: middle;\n",
       "    }\n",
       "\n",
       "    .dataframe tbody tr th {\n",
       "        vertical-align: top;\n",
       "    }\n",
       "\n",
       "    .dataframe thead th {\n",
       "        text-align: right;\n",
       "    }\n",
       "</style>\n",
       "<table border=\"1\" class=\"dataframe\">\n",
       "  <thead>\n",
       "    <tr style=\"text-align: right;\">\n",
       "      <th></th>\n",
       "      <th>student_id</th>\n",
       "      <th>score</th>\n",
       "      <th>student_name</th>\n",
       "    </tr>\n",
       "  </thead>\n",
       "  <tbody>\n",
       "    <tr>\n",
       "      <th>0</th>\n",
       "      <td>1</td>\n",
       "      <td>60</td>\n",
       "      <td>Hamza</td>\n",
       "    </tr>\n",
       "    <tr>\n",
       "      <th>1</th>\n",
       "      <td>2</td>\n",
       "      <td>70</td>\n",
       "      <td>Ali</td>\n",
       "    </tr>\n",
       "    <tr>\n",
       "      <th>2</th>\n",
       "      <td>3</td>\n",
       "      <td>80</td>\n",
       "      <td>Junaid</td>\n",
       "    </tr>\n",
       "    <tr>\n",
       "      <th>3</th>\n",
       "      <td>4</td>\n",
       "      <td>86</td>\n",
       "      <td>Rashid</td>\n",
       "    </tr>\n",
       "    <tr>\n",
       "      <th>4</th>\n",
       "      <td>5</td>\n",
       "      <td>90</td>\n",
       "      <td>Konain</td>\n",
       "    </tr>\n",
       "  </tbody>\n",
       "</table>\n",
       "</div>"
      ],
      "text/plain": [
       "   student_id  score student_name\n",
       "0           1     60        Hamza\n",
       "1           2     70          Ali\n",
       "2           3     80       Junaid\n",
       "3           4     86       Rashid\n",
       "4           5     90       Konain"
      ]
     },
     "execution_count": 27,
     "metadata": {},
     "output_type": "execute_result"
    }
   ],
   "source": [
    "x1 : pd.Series = pd.Series([1,2,3,4,5])\n",
    "x2 : pd.Series = pd.Series([60,70,80,86,90])\n",
    "x3 : pd.Series = pd.Series([\"Hamza\",\"Ali\",\"Junaid\",\"Rashid\",\"Konain\"])\n",
    "\n",
    "m1 : pd.DataFrame = pd.DataFrame({\"student_id\" : x1 , \"score\" : x2, \"student_name\" : x3})\n",
    "m1"
   ]
  },
  {
   "cell_type": "code",
   "execution_count": null,
   "metadata": {},
   "outputs": [
    {
     "data": {
      "text/html": [
       "<div>\n",
       "<style scoped>\n",
       "    .dataframe tbody tr th:only-of-type {\n",
       "        vertical-align: middle;\n",
       "    }\n",
       "\n",
       "    .dataframe tbody tr th {\n",
       "        vertical-align: top;\n",
       "    }\n",
       "\n",
       "    .dataframe thead th {\n",
       "        text-align: right;\n",
       "    }\n",
       "</style>\n",
       "<table border=\"1\" class=\"dataframe\">\n",
       "  <thead>\n",
       "    <tr style=\"text-align: right;\">\n",
       "      <th></th>\n",
       "      <th>0</th>\n",
       "      <th>1</th>\n",
       "      <th>2</th>\n",
       "      <th>3</th>\n",
       "      <th>4</th>\n",
       "    </tr>\n",
       "  </thead>\n",
       "  <tbody>\n",
       "    <tr>\n",
       "      <th>student id</th>\n",
       "      <td>1</td>\n",
       "      <td>2</td>\n",
       "      <td>3</td>\n",
       "      <td>4</td>\n",
       "      <td>5</td>\n",
       "    </tr>\n",
       "    <tr>\n",
       "      <th>score</th>\n",
       "      <td>10</td>\n",
       "      <td>20</td>\n",
       "      <td>30</td>\n",
       "      <td>40</td>\n",
       "      <td>50</td>\n",
       "    </tr>\n",
       "    <tr>\n",
       "      <th>student name</th>\n",
       "      <td>Hamza</td>\n",
       "      <td>Ali</td>\n",
       "      <td>Junaid</td>\n",
       "      <td>Rashid</td>\n",
       "      <td>Konain</td>\n",
       "    </tr>\n",
       "  </tbody>\n",
       "</table>\n",
       "</div>"
      ],
      "text/plain": [
       "                  0    1       2       3       4\n",
       "student id        1    2       3       4       5\n",
       "score            10   20      30      40      50\n",
       "student name  Hamza  Ali  Junaid  Rashid  Konain"
      ]
     },
     "execution_count": 28,
     "metadata": {},
     "output_type": "execute_result"
    }
   ],
   "source": [
    "s1 : pd.Series = pd.Series([1,2,3,4,5], name=\"student id\")\n",
    "s2 : pd.Series = pd.Series([10,20,30,40,50], name=\"score\")\n",
    "s3 : pd.Series = pd.Series([\"Hamza\",\"Ali\",\"Junaid\",\"Rashid\",\"Konain\"], name=\"student name\")\n",
    "\n",
    "b1 : pd.DataFrame = pd.DataFrame([s1,s2,s3])\n",
    "b1"
   ]
  },
  {
   "cell_type": "code",
   "execution_count": null,
   "metadata": {},
   "outputs": [
    {
     "data": {
      "text/html": [
       "<div>\n",
       "<style scoped>\n",
       "    .dataframe tbody tr th:only-of-type {\n",
       "        vertical-align: middle;\n",
       "    }\n",
       "\n",
       "    .dataframe tbody tr th {\n",
       "        vertical-align: top;\n",
       "    }\n",
       "\n",
       "    .dataframe thead th {\n",
       "        text-align: right;\n",
       "    }\n",
       "</style>\n",
       "<table border=\"1\" class=\"dataframe\">\n",
       "  <thead>\n",
       "    <tr style=\"text-align: right;\">\n",
       "      <th></th>\n",
       "      <th>student id</th>\n",
       "      <th>score</th>\n",
       "      <th>student name</th>\n",
       "    </tr>\n",
       "  </thead>\n",
       "  <tbody>\n",
       "    <tr>\n",
       "      <th>0</th>\n",
       "      <td>1</td>\n",
       "      <td>10</td>\n",
       "      <td>Hamza</td>\n",
       "    </tr>\n",
       "    <tr>\n",
       "      <th>1</th>\n",
       "      <td>2</td>\n",
       "      <td>20</td>\n",
       "      <td>Ali</td>\n",
       "    </tr>\n",
       "    <tr>\n",
       "      <th>2</th>\n",
       "      <td>3</td>\n",
       "      <td>30</td>\n",
       "      <td>Junaid</td>\n",
       "    </tr>\n",
       "    <tr>\n",
       "      <th>3</th>\n",
       "      <td>4</td>\n",
       "      <td>40</td>\n",
       "      <td>Rashid</td>\n",
       "    </tr>\n",
       "    <tr>\n",
       "      <th>4</th>\n",
       "      <td>5</td>\n",
       "      <td>50</td>\n",
       "      <td>Konain</td>\n",
       "    </tr>\n",
       "  </tbody>\n",
       "</table>\n",
       "</div>"
      ],
      "text/plain": [
       "   student id  score student name\n",
       "0           1     10        Hamza\n",
       "1           2     20          Ali\n",
       "2           3     30       Junaid\n",
       "3           4     40       Rashid\n",
       "4           5     50       Konain"
      ]
     },
     "execution_count": 29,
     "metadata": {},
     "output_type": "execute_result"
    }
   ],
   "source": [
    "s1 : pd.Series = pd.Series([1,2,3,4,5], name=\"student id\")\n",
    "s2 : pd.Series = pd.Series([10,20,30,40,50], name=\"score\")\n",
    "s3 : pd.Series = pd.Series([\"Hamza\",\"Ali\",\"Junaid\",\"Rashid\",\"Konain\"], name=\"student name\")\n",
    "\n",
    "b1 : pd.DataFrame = pd.concat([s1,s2,s3], axis= 1)\n",
    "b1"
   ]
  },
  {
   "cell_type": "code",
   "execution_count": null,
   "metadata": {},
   "outputs": [
    {
     "data": {
      "text/html": [
       "<div>\n",
       "<style scoped>\n",
       "    .dataframe tbody tr th:only-of-type {\n",
       "        vertical-align: middle;\n",
       "    }\n",
       "\n",
       "    .dataframe tbody tr th {\n",
       "        vertical-align: top;\n",
       "    }\n",
       "\n",
       "    .dataframe thead th {\n",
       "        text-align: right;\n",
       "    }\n",
       "</style>\n",
       "<table border=\"1\" class=\"dataframe\">\n",
       "  <thead>\n",
       "    <tr style=\"text-align: right;\">\n",
       "      <th></th>\n",
       "      <th>0</th>\n",
       "      <th>1</th>\n",
       "      <th>2</th>\n",
       "    </tr>\n",
       "  </thead>\n",
       "  <tbody>\n",
       "    <tr>\n",
       "      <th>0</th>\n",
       "      <td>1</td>\n",
       "      <td>2</td>\n",
       "      <td>3</td>\n",
       "    </tr>\n",
       "    <tr>\n",
       "      <th>1</th>\n",
       "      <td>4</td>\n",
       "      <td>5</td>\n",
       "      <td>6</td>\n",
       "    </tr>\n",
       "    <tr>\n",
       "      <th>2</th>\n",
       "      <td>7</td>\n",
       "      <td>8</td>\n",
       "      <td>9</td>\n",
       "    </tr>\n",
       "  </tbody>\n",
       "</table>\n",
       "</div>"
      ],
      "text/plain": [
       "   0  1  2\n",
       "0  1  2  3\n",
       "1  4  5  6\n",
       "2  7  8  9"
      ]
     },
     "execution_count": 30,
     "metadata": {},
     "output_type": "execute_result"
    }
   ],
   "source": [
    "data : list[list[int]] = [[1,2,3],[4,5,6],[7,8,9]]\n",
    "d1 : pd.DataFrame = pd.DataFrame(data)\n",
    "d1"
   ]
  },
  {
   "cell_type": "code",
   "execution_count": null,
   "metadata": {},
   "outputs": [
    {
     "data": {
      "text/html": [
       "<div>\n",
       "<style scoped>\n",
       "    .dataframe tbody tr th:only-of-type {\n",
       "        vertical-align: middle;\n",
       "    }\n",
       "\n",
       "    .dataframe tbody tr th {\n",
       "        vertical-align: top;\n",
       "    }\n",
       "\n",
       "    .dataframe thead th {\n",
       "        text-align: right;\n",
       "    }\n",
       "</style>\n",
       "<table border=\"1\" class=\"dataframe\">\n",
       "  <thead>\n",
       "    <tr style=\"text-align: right;\">\n",
       "      <th></th>\n",
       "      <th>A</th>\n",
       "      <th>B</th>\n",
       "      <th>C</th>\n",
       "    </tr>\n",
       "  </thead>\n",
       "  <tbody>\n",
       "    <tr>\n",
       "      <th>0</th>\n",
       "      <td>1</td>\n",
       "      <td>2</td>\n",
       "      <td>3</td>\n",
       "    </tr>\n",
       "    <tr>\n",
       "      <th>1</th>\n",
       "      <td>4</td>\n",
       "      <td>5</td>\n",
       "      <td>6</td>\n",
       "    </tr>\n",
       "    <tr>\n",
       "      <th>2</th>\n",
       "      <td>7</td>\n",
       "      <td>8</td>\n",
       "      <td>9</td>\n",
       "    </tr>\n",
       "  </tbody>\n",
       "</table>\n",
       "</div>"
      ],
      "text/plain": [
       "   A  B  C\n",
       "0  1  2  3\n",
       "1  4  5  6\n",
       "2  7  8  9"
      ]
     },
     "execution_count": 31,
     "metadata": {},
     "output_type": "execute_result"
    }
   ],
   "source": [
    "data : list[list[int]] = [[1,2,3],[4,5,6],[7,8,9]]\n",
    "d2 : pd.DataFrame = pd.DataFrame(data, columns=[\"A\",\"B\",\"C\"])\n",
    "d2"
   ]
  },
  {
   "cell_type": "code",
   "execution_count": null,
   "metadata": {},
   "outputs": [
    {
     "data": {
      "text/html": [
       "<div>\n",
       "<style scoped>\n",
       "    .dataframe tbody tr th:only-of-type {\n",
       "        vertical-align: middle;\n",
       "    }\n",
       "\n",
       "    .dataframe tbody tr th {\n",
       "        vertical-align: top;\n",
       "    }\n",
       "\n",
       "    .dataframe thead th {\n",
       "        text-align: right;\n",
       "    }\n",
       "</style>\n",
       "<table border=\"1\" class=\"dataframe\">\n",
       "  <thead>\n",
       "    <tr style=\"text-align: right;\">\n",
       "      <th></th>\n",
       "      <th>A</th>\n",
       "      <th>B</th>\n",
       "      <th>C</th>\n",
       "    </tr>\n",
       "  </thead>\n",
       "  <tbody>\n",
       "    <tr>\n",
       "      <th>x</th>\n",
       "      <td>1</td>\n",
       "      <td>2</td>\n",
       "      <td>3</td>\n",
       "    </tr>\n",
       "    <tr>\n",
       "      <th>y</th>\n",
       "      <td>4</td>\n",
       "      <td>5</td>\n",
       "      <td>6</td>\n",
       "    </tr>\n",
       "    <tr>\n",
       "      <th>z</th>\n",
       "      <td>7</td>\n",
       "      <td>8</td>\n",
       "      <td>9</td>\n",
       "    </tr>\n",
       "  </tbody>\n",
       "</table>\n",
       "</div>"
      ],
      "text/plain": [
       "   A  B  C\n",
       "x  1  2  3\n",
       "y  4  5  6\n",
       "z  7  8  9"
      ]
     },
     "execution_count": 32,
     "metadata": {},
     "output_type": "execute_result"
    }
   ],
   "source": [
    "data : list[list[int]] = [[1,2,3],\n",
    "                          [4,5,6],\n",
    "                          [7,8,9]]\n",
    "d3 : pd.DataFrame = pd.DataFrame(data, columns=['A',\"B\",\"C\"],index=['x','y','z'])\n",
    "d3"
   ]
  },
  {
   "cell_type": "code",
   "execution_count": null,
   "metadata": {},
   "outputs": [
    {
     "data": {
      "text/plain": [
       "Index(['A', 'B', 'C'], dtype='object')"
      ]
     },
     "execution_count": 33,
     "metadata": {},
     "output_type": "execute_result"
    }
   ],
   "source": [
    "d2.columns"
   ]
  },
  {
   "cell_type": "code",
   "execution_count": null,
   "metadata": {},
   "outputs": [
    {
     "data": {
      "text/plain": [
       "RangeIndex(start=0, stop=3, step=1)"
      ]
     },
     "execution_count": 34,
     "metadata": {},
     "output_type": "execute_result"
    }
   ],
   "source": [
    "d2.index"
   ]
  },
  {
   "cell_type": "code",
   "execution_count": null,
   "metadata": {},
   "outputs": [
    {
     "data": {
      "text/plain": [
       "array([[1, 2, 3],\n",
       "       [4, 5, 6],\n",
       "       [7, 8, 9]], dtype=int64)"
      ]
     },
     "execution_count": 35,
     "metadata": {},
     "output_type": "execute_result"
    }
   ],
   "source": [
    "d2.values"
   ]
  },
  {
   "cell_type": "code",
   "execution_count": null,
   "metadata": {},
   "outputs": [
    {
     "data": {
      "text/plain": [
       "array([[ 0,  1,  2,  3,  4,  5,  6,  7,  8,  9],\n",
       "       [10, 11, 12, 13, 14, 15, 16, 17, 18, 19],\n",
       "       [20, 21, 22, 23, 24, 25, 26, 27, 28, 29],\n",
       "       [30, 31, 32, 33, 34, 35, 36, 37, 38, 39],\n",
       "       [40, 41, 42, 43, 44, 45, 46, 47, 48, 49],\n",
       "       [50, 51, 52, 53, 54, 55, 56, 57, 58, 59],\n",
       "       [60, 61, 62, 63, 64, 65, 66, 67, 68, 69],\n",
       "       [70, 71, 72, 73, 74, 75, 76, 77, 78, 79],\n",
       "       [80, 81, 82, 83, 84, 85, 86, 87, 88, 89],\n",
       "       [90, 91, 92, 93, 94, 95, 96, 97, 98, 99]])"
      ]
     },
     "execution_count": 36,
     "metadata": {},
     "output_type": "execute_result"
    }
   ],
   "source": [
    "from nptyping import NDArray,Shape,UInt64\n",
    "from typing import Any\n",
    "\n",
    "data : NDArray[Shape[\"10,10\"],Any] = np.arange(10*10).reshape(10,10)\n",
    "data"
   ]
  },
  {
   "cell_type": "code",
   "execution_count": null,
   "metadata": {},
   "outputs": [
    {
     "data": {
      "text/html": [
       "<div>\n",
       "<style scoped>\n",
       "    .dataframe tbody tr th:only-of-type {\n",
       "        vertical-align: middle;\n",
       "    }\n",
       "\n",
       "    .dataframe tbody tr th {\n",
       "        vertical-align: top;\n",
       "    }\n",
       "\n",
       "    .dataframe thead th {\n",
       "        text-align: right;\n",
       "    }\n",
       "</style>\n",
       "<table border=\"1\" class=\"dataframe\">\n",
       "  <thead>\n",
       "    <tr style=\"text-align: right;\">\n",
       "      <th></th>\n",
       "      <th>A</th>\n",
       "      <th>B</th>\n",
       "      <th>C</th>\n",
       "      <th>D</th>\n",
       "      <th>E</th>\n",
       "      <th>F</th>\n",
       "      <th>G</th>\n",
       "      <th>H</th>\n",
       "      <th>I</th>\n",
       "      <th>J</th>\n",
       "    </tr>\n",
       "  </thead>\n",
       "  <tbody>\n",
       "    <tr>\n",
       "      <th>0</th>\n",
       "      <td>0</td>\n",
       "      <td>1</td>\n",
       "      <td>2</td>\n",
       "      <td>3</td>\n",
       "      <td>4</td>\n",
       "      <td>5</td>\n",
       "      <td>6</td>\n",
       "      <td>7</td>\n",
       "      <td>8</td>\n",
       "      <td>9</td>\n",
       "    </tr>\n",
       "    <tr>\n",
       "      <th>1</th>\n",
       "      <td>10</td>\n",
       "      <td>11</td>\n",
       "      <td>12</td>\n",
       "      <td>13</td>\n",
       "      <td>14</td>\n",
       "      <td>15</td>\n",
       "      <td>16</td>\n",
       "      <td>17</td>\n",
       "      <td>18</td>\n",
       "      <td>19</td>\n",
       "    </tr>\n",
       "    <tr>\n",
       "      <th>2</th>\n",
       "      <td>20</td>\n",
       "      <td>21</td>\n",
       "      <td>22</td>\n",
       "      <td>23</td>\n",
       "      <td>24</td>\n",
       "      <td>25</td>\n",
       "      <td>26</td>\n",
       "      <td>27</td>\n",
       "      <td>28</td>\n",
       "      <td>29</td>\n",
       "    </tr>\n",
       "    <tr>\n",
       "      <th>3</th>\n",
       "      <td>30</td>\n",
       "      <td>31</td>\n",
       "      <td>32</td>\n",
       "      <td>33</td>\n",
       "      <td>34</td>\n",
       "      <td>35</td>\n",
       "      <td>36</td>\n",
       "      <td>37</td>\n",
       "      <td>38</td>\n",
       "      <td>39</td>\n",
       "    </tr>\n",
       "    <tr>\n",
       "      <th>4</th>\n",
       "      <td>40</td>\n",
       "      <td>41</td>\n",
       "      <td>42</td>\n",
       "      <td>43</td>\n",
       "      <td>44</td>\n",
       "      <td>45</td>\n",
       "      <td>46</td>\n",
       "      <td>47</td>\n",
       "      <td>48</td>\n",
       "      <td>49</td>\n",
       "    </tr>\n",
       "    <tr>\n",
       "      <th>5</th>\n",
       "      <td>50</td>\n",
       "      <td>51</td>\n",
       "      <td>52</td>\n",
       "      <td>53</td>\n",
       "      <td>54</td>\n",
       "      <td>55</td>\n",
       "      <td>56</td>\n",
       "      <td>57</td>\n",
       "      <td>58</td>\n",
       "      <td>59</td>\n",
       "    </tr>\n",
       "    <tr>\n",
       "      <th>6</th>\n",
       "      <td>60</td>\n",
       "      <td>61</td>\n",
       "      <td>62</td>\n",
       "      <td>63</td>\n",
       "      <td>64</td>\n",
       "      <td>65</td>\n",
       "      <td>66</td>\n",
       "      <td>67</td>\n",
       "      <td>68</td>\n",
       "      <td>69</td>\n",
       "    </tr>\n",
       "    <tr>\n",
       "      <th>7</th>\n",
       "      <td>70</td>\n",
       "      <td>71</td>\n",
       "      <td>72</td>\n",
       "      <td>73</td>\n",
       "      <td>74</td>\n",
       "      <td>75</td>\n",
       "      <td>76</td>\n",
       "      <td>77</td>\n",
       "      <td>78</td>\n",
       "      <td>79</td>\n",
       "    </tr>\n",
       "    <tr>\n",
       "      <th>8</th>\n",
       "      <td>80</td>\n",
       "      <td>81</td>\n",
       "      <td>82</td>\n",
       "      <td>83</td>\n",
       "      <td>84</td>\n",
       "      <td>85</td>\n",
       "      <td>86</td>\n",
       "      <td>87</td>\n",
       "      <td>88</td>\n",
       "      <td>89</td>\n",
       "    </tr>\n",
       "    <tr>\n",
       "      <th>9</th>\n",
       "      <td>90</td>\n",
       "      <td>91</td>\n",
       "      <td>92</td>\n",
       "      <td>93</td>\n",
       "      <td>94</td>\n",
       "      <td>95</td>\n",
       "      <td>96</td>\n",
       "      <td>97</td>\n",
       "      <td>98</td>\n",
       "      <td>99</td>\n",
       "    </tr>\n",
       "  </tbody>\n",
       "</table>\n",
       "</div>"
      ],
      "text/plain": [
       "    A   B   C   D   E   F   G   H   I   J\n",
       "0   0   1   2   3   4   5   6   7   8   9\n",
       "1  10  11  12  13  14  15  16  17  18  19\n",
       "2  20  21  22  23  24  25  26  27  28  29\n",
       "3  30  31  32  33  34  35  36  37  38  39\n",
       "4  40  41  42  43  44  45  46  47  48  49\n",
       "5  50  51  52  53  54  55  56  57  58  59\n",
       "6  60  61  62  63  64  65  66  67  68  69\n",
       "7  70  71  72  73  74  75  76  77  78  79\n",
       "8  80  81  82  83  84  85  86  87  88  89\n",
       "9  90  91  92  93  94  95  96  97  98  99"
      ]
     },
     "execution_count": 37,
     "metadata": {},
     "output_type": "execute_result"
    }
   ],
   "source": [
    "from nptyping import NDArray, Shape, UInt64\n",
    "from typing import Any\n",
    "\n",
    "data : NDArray[Shape[\"10,10\"],Any] = np.arange(10*10).reshape(10,10)\n",
    "ds : pd.DataFrame = pd.DataFrame(data,columns=list(\"ABCDEFGHIJ\"))\n",
    "ds"
   ]
  },
  {
   "cell_type": "code",
   "execution_count": null,
   "metadata": {},
   "outputs": [
    {
     "data": {
      "text/plain": [
       "[  Operator            Name Example    Try it\n",
       " 0        +        Addition   x + y  Try it »\n",
       " 1        -     Subtraction   x - y  Try it »\n",
       " 2        *  Multiplication   x * y  Try it »\n",
       " 3        /        Division   x / y  Try it »\n",
       " 4        %         Modulus   x % y  Try it »\n",
       " 5       **  Exponentiation  x ** y  Try it »\n",
       " 6       //  Floor division  x // y  Try it »,\n",
       "    Operator        Example         Same As    Try it\n",
       " 0         =          x = 5           x = 5  Try it »\n",
       " 1        +=         x += 3       x = x + 3  Try it »\n",
       " 2        -=         x -= 3       x = x - 3  Try it »\n",
       " 3        *=         x *= 3       x = x * 3  Try it »\n",
       " 4        /=         x /= 3       x = x / 3  Try it »\n",
       " 5        %=         x %= 3       x = x % 3  Try it »\n",
       " 6       //=        x //= 3      x = x // 3  Try it »\n",
       " 7       **=        x **= 3      x = x ** 3  Try it »\n",
       " 8        &=         x &= 3       x = x & 3  Try it »\n",
       " 9        |=         x |= 3       x = x | 3  Try it »\n",
       " 10       ^=         x ^= 3       x = x ^ 3  Try it »\n",
       " 11      >>=        x >>= 3      x = x >> 3  Try it »\n",
       " 12      <<=        x <<= 3      x = x << 3  Try it »\n",
       " 13       :=  print(x := 3)  x = 3 print(x)  Try it »,\n",
       "   Operator                      Name Example    Try it\n",
       " 0       ==                     Equal  x == y  Try it »\n",
       " 1       !=                 Not equal  x != y  Try it »\n",
       " 2        >              Greater than   x > y  Try it »\n",
       " 3        <                 Less than   x < y  Try it »\n",
       " 4       >=  Greater than or equal to  x >= y  Try it »\n",
       " 5       <=     Less than or equal to  x <= y  Try it »,\n",
       "   Operator                                        Description  \\\n",
       " 0      and           Returns True if both statements are true   \n",
       " 1       or      Returns True if one of the statements is true   \n",
       " 2      not  Reverse the result, returns False if the resul...   \n",
       " \n",
       "                  Example    Try it  \n",
       " 0       x < 5 and x < 10  Try it »  \n",
       " 1         x < 5 or x < 4  Try it »  \n",
       " 2  not(x < 5 and x < 10)  Try it »  ,\n",
       "   Operator                                        Description     Example  \\\n",
       " 0       is  Returns True if both variables are the same ob...      x is y   \n",
       " 1   is not  Returns True if both variables are not the sam...  x is not y   \n",
       " \n",
       "      Try it  \n",
       " 0  Try it »  \n",
       " 1  Try it »  ,\n",
       "   Operator                                        Description     Example  \\\n",
       " 0       in  Returns True if a sequence with the specified ...      x in y   \n",
       " 1   not in  Returns True if a sequence with the specified ...  x not in y   \n",
       " \n",
       "      Try it  \n",
       " 0  Try it »  \n",
       " 1  Try it »  ,\n",
       "   Operator                  Name  \\\n",
       " 0        &                   AND   \n",
       " 1        |                    OR   \n",
       " 2        ^                   XOR   \n",
       " 3        ~                   NOT   \n",
       " 4       <<  Zero fill left shift   \n",
       " 5       >>    Signed right shift   \n",
       " \n",
       "                                          Description Example    Try it  \n",
       " 0              Sets each bit to 1 if both bits are 1   x & y  Try it »  \n",
       " 1         Sets each bit to 1 if one of two bits is 1   x | y  Try it »  \n",
       " 2    Sets each bit to 1 if only one of two bits is 1   x ^ y  Try it »  \n",
       " 3                               Inverts all the bits      ~x  Try it »  \n",
       " 4  Shift left by pushing zeros in from the right ...  x << 2  Try it »  \n",
       " 5  Shift right by pushing copies of the leftmost ...  x >> 2  Try it »  ,\n",
       "                                Operator  \\\n",
       " 0                                    ()   \n",
       " 1                                    **   \n",
       " 2                              +x -x ~x   \n",
       " 3                              * / // %   \n",
       " 4                                   + -   \n",
       " 5                                 << >>   \n",
       " 6                                     &   \n",
       " 7                                     ^   \n",
       " 8                                     |   \n",
       " 9   == != > >= < <= is is not in not in   \n",
       " 10                                  not   \n",
       " 11                                  and   \n",
       " 12                                   or   \n",
       " \n",
       "                                           Description    Try it  \n",
       " 0                                         Parentheses  Try it »  \n",
       " 1                                      Exponentiation  Try it »  \n",
       " 2            Unary plus, unary minus, and bitwise NOT  Try it »  \n",
       " 3   Multiplication, division, floor division, and ...  Try it »  \n",
       " 4                            Addition and subtraction  Try it »  \n",
       " 5                       Bitwise left and right shifts  Try it »  \n",
       " 6                                         Bitwise AND  Try it »  \n",
       " 7                                         Bitwise XOR  Try it »  \n",
       " 8                                          Bitwise OR  Try it »  \n",
       " 9     Comparisons, identity, and membership operators  Try it »  \n",
       " 10                                        Logical NOT  Try it »  \n",
       " 11                                                AND  Try it »  \n",
       " 12                                                 OR  Try it »  ]"
      ]
     },
     "execution_count": 38,
     "metadata": {},
     "output_type": "execute_result"
    }
   ],
   "source": [
    "dfl : list[pd.DataFrame] = pd.read_html(\"https://www.w3schools.com/python/python_operators.asp\")\n",
    "dfl"
   ]
  },
  {
   "cell_type": "code",
   "execution_count": null,
   "metadata": {},
   "outputs": [
    {
     "data": {
      "text/html": [
       "<div>\n",
       "<style scoped>\n",
       "    .dataframe tbody tr th:only-of-type {\n",
       "        vertical-align: middle;\n",
       "    }\n",
       "\n",
       "    .dataframe tbody tr th {\n",
       "        vertical-align: top;\n",
       "    }\n",
       "\n",
       "    .dataframe thead th {\n",
       "        text-align: right;\n",
       "    }\n",
       "</style>\n",
       "<table border=\"1\" class=\"dataframe\">\n",
       "  <thead>\n",
       "    <tr style=\"text-align: right;\">\n",
       "      <th></th>\n",
       "      <th>Operator</th>\n",
       "      <th>Name</th>\n",
       "      <th>Example</th>\n",
       "      <th>Try it</th>\n",
       "    </tr>\n",
       "  </thead>\n",
       "  <tbody>\n",
       "    <tr>\n",
       "      <th>0</th>\n",
       "      <td>+</td>\n",
       "      <td>Addition</td>\n",
       "      <td>x + y</td>\n",
       "      <td>Try it »</td>\n",
       "    </tr>\n",
       "    <tr>\n",
       "      <th>1</th>\n",
       "      <td>-</td>\n",
       "      <td>Subtraction</td>\n",
       "      <td>x - y</td>\n",
       "      <td>Try it »</td>\n",
       "    </tr>\n",
       "    <tr>\n",
       "      <th>2</th>\n",
       "      <td>*</td>\n",
       "      <td>Multiplication</td>\n",
       "      <td>x * y</td>\n",
       "      <td>Try it »</td>\n",
       "    </tr>\n",
       "    <tr>\n",
       "      <th>3</th>\n",
       "      <td>/</td>\n",
       "      <td>Division</td>\n",
       "      <td>x / y</td>\n",
       "      <td>Try it »</td>\n",
       "    </tr>\n",
       "    <tr>\n",
       "      <th>4</th>\n",
       "      <td>%</td>\n",
       "      <td>Modulus</td>\n",
       "      <td>x % y</td>\n",
       "      <td>Try it »</td>\n",
       "    </tr>\n",
       "    <tr>\n",
       "      <th>5</th>\n",
       "      <td>**</td>\n",
       "      <td>Exponentiation</td>\n",
       "      <td>x ** y</td>\n",
       "      <td>Try it »</td>\n",
       "    </tr>\n",
       "    <tr>\n",
       "      <th>6</th>\n",
       "      <td>//</td>\n",
       "      <td>Floor division</td>\n",
       "      <td>x // y</td>\n",
       "      <td>Try it »</td>\n",
       "    </tr>\n",
       "  </tbody>\n",
       "</table>\n",
       "</div>"
      ],
      "text/plain": [
       "  Operator            Name Example    Try it\n",
       "0        +        Addition   x + y  Try it »\n",
       "1        -     Subtraction   x - y  Try it »\n",
       "2        *  Multiplication   x * y  Try it »\n",
       "3        /        Division   x / y  Try it »\n",
       "4        %         Modulus   x % y  Try it »\n",
       "5       **  Exponentiation  x ** y  Try it »\n",
       "6       //  Floor division  x // y  Try it »"
      ]
     },
     "execution_count": 39,
     "metadata": {},
     "output_type": "execute_result"
    }
   ],
   "source": [
    "dfl[0]"
   ]
  },
  {
   "cell_type": "code",
   "execution_count": null,
   "metadata": {},
   "outputs": [
    {
     "data": {
      "text/html": [
       "<div>\n",
       "<style scoped>\n",
       "    .dataframe tbody tr th:only-of-type {\n",
       "        vertical-align: middle;\n",
       "    }\n",
       "\n",
       "    .dataframe tbody tr th {\n",
       "        vertical-align: top;\n",
       "    }\n",
       "\n",
       "    .dataframe thead th {\n",
       "        text-align: right;\n",
       "    }\n",
       "</style>\n",
       "<table border=\"1\" class=\"dataframe\">\n",
       "  <thead>\n",
       "    <tr style=\"text-align: right;\">\n",
       "      <th></th>\n",
       "      <th>Duration</th>\n",
       "      <th>Pulse</th>\n",
       "      <th>Maxpulse</th>\n",
       "      <th>Calories</th>\n",
       "    </tr>\n",
       "  </thead>\n",
       "  <tbody>\n",
       "    <tr>\n",
       "      <th>0</th>\n",
       "      <td>60</td>\n",
       "      <td>110</td>\n",
       "      <td>130</td>\n",
       "      <td>409.1</td>\n",
       "    </tr>\n",
       "    <tr>\n",
       "      <th>1</th>\n",
       "      <td>60</td>\n",
       "      <td>117</td>\n",
       "      <td>145</td>\n",
       "      <td>479.0</td>\n",
       "    </tr>\n",
       "    <tr>\n",
       "      <th>2</th>\n",
       "      <td>60</td>\n",
       "      <td>103</td>\n",
       "      <td>135</td>\n",
       "      <td>340.0</td>\n",
       "    </tr>\n",
       "    <tr>\n",
       "      <th>3</th>\n",
       "      <td>45</td>\n",
       "      <td>109</td>\n",
       "      <td>175</td>\n",
       "      <td>282.4</td>\n",
       "    </tr>\n",
       "    <tr>\n",
       "      <th>4</th>\n",
       "      <td>45</td>\n",
       "      <td>117</td>\n",
       "      <td>148</td>\n",
       "      <td>406.0</td>\n",
       "    </tr>\n",
       "    <tr>\n",
       "      <th>...</th>\n",
       "      <td>...</td>\n",
       "      <td>...</td>\n",
       "      <td>...</td>\n",
       "      <td>...</td>\n",
       "    </tr>\n",
       "    <tr>\n",
       "      <th>164</th>\n",
       "      <td>60</td>\n",
       "      <td>105</td>\n",
       "      <td>140</td>\n",
       "      <td>290.8</td>\n",
       "    </tr>\n",
       "    <tr>\n",
       "      <th>165</th>\n",
       "      <td>60</td>\n",
       "      <td>110</td>\n",
       "      <td>145</td>\n",
       "      <td>300.4</td>\n",
       "    </tr>\n",
       "    <tr>\n",
       "      <th>166</th>\n",
       "      <td>60</td>\n",
       "      <td>115</td>\n",
       "      <td>145</td>\n",
       "      <td>310.2</td>\n",
       "    </tr>\n",
       "    <tr>\n",
       "      <th>167</th>\n",
       "      <td>75</td>\n",
       "      <td>120</td>\n",
       "      <td>150</td>\n",
       "      <td>320.4</td>\n",
       "    </tr>\n",
       "    <tr>\n",
       "      <th>168</th>\n",
       "      <td>75</td>\n",
       "      <td>125</td>\n",
       "      <td>150</td>\n",
       "      <td>330.4</td>\n",
       "    </tr>\n",
       "  </tbody>\n",
       "</table>\n",
       "<p>169 rows × 4 columns</p>\n",
       "</div>"
      ],
      "text/plain": [
       "     Duration  Pulse  Maxpulse  Calories\n",
       "0          60    110       130     409.1\n",
       "1          60    117       145     479.0\n",
       "2          60    103       135     340.0\n",
       "3          45    109       175     282.4\n",
       "4          45    117       148     406.0\n",
       "..        ...    ...       ...       ...\n",
       "164        60    105       140     290.8\n",
       "165        60    110       145     300.4\n",
       "166        60    115       145     310.2\n",
       "167        75    120       150     320.4\n",
       "168        75    125       150     330.4\n",
       "\n",
       "[169 rows x 4 columns]"
      ]
     },
     "execution_count": 40,
     "metadata": {},
     "output_type": "execute_result"
    }
   ],
   "source": [
    "df : pd.DataFrame = pd.read_json(\"https://www.w3schools.com/python/pandas/data.js\")\n",
    "df "
   ]
  },
  {
   "cell_type": "code",
   "execution_count": null,
   "metadata": {},
   "outputs": [
    {
     "name": "stdout",
     "output_type": "stream",
     "text": [
      "   column1  column2  column3\n",
      "0        1     -1.3  value_1\n",
      "1        4     -1.4  value_2\n",
      "2        0     -2.9  value_3\n",
      "3       10    -10.1  value_2\n",
      "4        9    -20.4  value_1\n"
     ]
    }
   ],
   "source": [
    "import pandas as pd\n",
    "import pandera as pa\n",
    "\n",
    "# data to validate\n",
    "df = pd.DataFrame({\n",
    "    \"column1\": [1, 4, 0, 10, 9],\n",
    "    \"column2\": [-1.3, -1.4, -2.9, -10.1, -20.4],\n",
    "    \"column3\": [\"value_1\", \"value_2\", \"value_3\", \"value_2\", \"value_1\"],\n",
    "})\n",
    "\n",
    "# define schema\n",
    "schema = pa.DataFrameSchema({\n",
    "    \"column1\": pa.Column(int, checks=pa.Check.le(10)),\n",
    "    \"column2\": pa.Column(float, checks=pa.Check.lt(-1.2)),\n",
    "    \"column3\": pa.Column(str, checks=[\n",
    "        pa.Check.str_startswith(\"value_\"),\n",
    "        # define custom checks as functions that take a series as input and\n",
    "        # outputs a boolean or boolean Series\n",
    "        pa.Check(lambda s: s.str.split(\"_\", expand=True).shape[1] == 2)\n",
    "    ]),\n",
    "})\n",
    "\n",
    "validated_df = schema(df)\n",
    "print(validated_df)"
   ]
  },
  {
   "cell_type": "code",
   "execution_count": null,
   "metadata": {},
   "outputs": [
    {
     "data": {
      "text/plain": [
       "['__call__',\n",
       " '__class__',\n",
       " '__delattr__',\n",
       " '__dict__',\n",
       " '__dir__',\n",
       " '__doc__',\n",
       " '__eq__',\n",
       " '__format__',\n",
       " '__ge__',\n",
       " '__getattribute__',\n",
       " '__getstate__',\n",
       " '__gt__',\n",
       " '__hash__',\n",
       " '__init__',\n",
       " '__init_subclass__',\n",
       " '__le__',\n",
       " '__lt__',\n",
       " '__module__',\n",
       " '__ne__',\n",
       " '__new__',\n",
       " '__reduce__',\n",
       " '__reduce_ex__',\n",
       " '__repr__',\n",
       " '__setattr__',\n",
       " '__sizeof__',\n",
       " '__slotnames__',\n",
       " '__str__',\n",
       " '__subclasshook__',\n",
       " '__weakref__',\n",
       " '_get_check_fn_code',\n",
       " 'between',\n",
       " 'eq',\n",
       " 'equal_to',\n",
       " 'equal_to',\n",
       " 'from_builtin_check_name',\n",
       " 'ge',\n",
       " 'get_backend',\n",
       " 'get_builtin_check_fn',\n",
       " 'greater_than',\n",
       " 'greater_than',\n",
       " 'greater_than_or_equal_to',\n",
       " 'greater_than_or_equal_to',\n",
       " 'gt',\n",
       " 'in_range',\n",
       " 'in_range',\n",
       " 'isin',\n",
       " 'isin',\n",
       " 'le',\n",
       " 'less_than',\n",
       " 'less_than',\n",
       " 'less_than_or_equal_to',\n",
       " 'less_than_or_equal_to',\n",
       " 'lt',\n",
       " 'ne',\n",
       " 'not_equal_to',\n",
       " 'not_equal_to',\n",
       " 'notin',\n",
       " 'notin',\n",
       " 'one_sample_ttest',\n",
       " 'register_backend',\n",
       " 'register_builtin_check_fn',\n",
       " 'str_contains',\n",
       " 'str_contains',\n",
       " 'str_endswith',\n",
       " 'str_endswith',\n",
       " 'str_length',\n",
       " 'str_length',\n",
       " 'str_matches',\n",
       " 'str_matches',\n",
       " 'str_startswith',\n",
       " 'str_startswith',\n",
       " 'two_sample_ttest',\n",
       " 'unique_values_eq',\n",
       " 'unique_values_eq']"
      ]
     },
     "execution_count": 42,
     "metadata": {},
     "output_type": "execute_result"
    }
   ],
   "source": [
    "dir(pa.Check)"
   ]
  },
  {
   "cell_type": "code",
   "execution_count": null,
   "metadata": {},
   "outputs": [
    {
     "data": {
      "text/plain": [
       "0    1\n",
       "1    2\n",
       "2    3\n",
       "3    4\n",
       "4    5\n",
       "dtype: int64"
      ]
     },
     "metadata": {},
     "output_type": "display_data"
    },
    {
     "name": "stdout",
     "output_type": "stream",
     "text": [
      "Apply sliding\n"
     ]
    },
    {
     "data": {
      "text/plain": [
       "2"
      ]
     },
     "metadata": {},
     "output_type": "display_data"
    }
   ],
   "source": [
    "f1 : pd.Series = pd.Series([1,2,3,4,5])\n",
    "display(f1)\n",
    "print(\"Apply sliding\")\n",
    "display(f1[1])"
   ]
  },
  {
   "cell_type": "code",
   "execution_count": null,
   "metadata": {},
   "outputs": [
    {
     "data": {
      "text/plain": [
       "0    1\n",
       "1    2\n",
       "2    3\n",
       "3    4\n",
       "4    5\n",
       "dtype: int64"
      ]
     },
     "metadata": {},
     "output_type": "display_data"
    },
    {
     "name": "stdout",
     "output_type": "stream",
     "text": [
      "Applying sliding\n"
     ]
    },
    {
     "data": {
      "text/plain": [
       "1    2\n",
       "2    3\n",
       "3    4\n",
       "dtype: int64"
      ]
     },
     "metadata": {},
     "output_type": "display_data"
    }
   ],
   "source": [
    "s1 : pd.Series = pd.Series([1,2,3,4,5])\n",
    "display(s1)\n",
    "print(\"Applying sliding\")\n",
    "display(s1[1:4])"
   ]
  },
  {
   "cell_type": "code",
   "execution_count": null,
   "metadata": {},
   "outputs": [
    {
     "data": {
      "text/plain": [
       "0    1\n",
       "1    2\n",
       "2    3\n",
       "3    4\n",
       "4    5\n",
       "dtype: int64"
      ]
     },
     "metadata": {},
     "output_type": "display_data"
    },
    {
     "name": "stdout",
     "output_type": "stream",
     "text": [
      "Applying sliding\n"
     ]
    },
    {
     "data": {
      "text/plain": [
       "1    2\n",
       "2    3\n",
       "3    4\n",
       "dtype: int64"
      ]
     },
     "metadata": {},
     "output_type": "display_data"
    }
   ],
   "source": [
    "s1 : pd.Series = pd.Series([1,2,3,4,5])\n",
    "display(s1)\n",
    "print(\"Applying sliding\")\n",
    "display(s1.iloc[1:4]) # .iloc is used for integers"
   ]
  },
  {
   "cell_type": "code",
   "execution_count": null,
   "metadata": {},
   "outputs": [
    {
     "data": {
      "text/plain": [
       "a    1\n",
       "b    2\n",
       "c    3\n",
       "d    4\n",
       "e    5\n",
       "dtype: int64"
      ]
     },
     "metadata": {},
     "output_type": "display_data"
    },
    {
     "data": {
      "text/plain": [
       "'applying sliding'"
      ]
     },
     "metadata": {},
     "output_type": "display_data"
    },
    {
     "data": {
      "text/plain": [
       "a    1\n",
       "b    2\n",
       "c    3\n",
       "d    4\n",
       "dtype: int64"
      ]
     },
     "metadata": {},
     "output_type": "display_data"
    }
   ],
   "source": [
    "s1 : pd.Series = pd.Series([1,2,3,4,5],index=['a', 'b', 'c', 'd','e'])\n",
    "display(s1)\n",
    "display(\"applying sliding\")\n",
    "display(s1.loc[\"a\":\"d\"]) #.loc is used for strings"
   ]
  },
  {
   "cell_type": "code",
   "execution_count": null,
   "metadata": {},
   "outputs": [
    {
     "data": {
      "text/plain": [
       "a    1\n",
       "b    2\n",
       "c    3\n",
       "d    4\n",
       "e    5\n",
       "dtype: int64"
      ]
     },
     "metadata": {},
     "output_type": "display_data"
    },
    {
     "name": "stdout",
     "output_type": "stream",
     "text": [
      "Applying sliding\n"
     ]
    },
    {
     "data": {
      "text/plain": [
       "2"
      ]
     },
     "metadata": {},
     "output_type": "display_data"
    }
   ],
   "source": [
    "s1 : pd.Series = pd.Series([1,2,3,4,5], index=['a', 'b', 'c', 'd','e'])\n",
    "display(s1)\n",
    "print(\"Applying sliding\")\n",
    "display(s1.iat[1]) # .iat is used for integers"
   ]
  },
  {
   "cell_type": "code",
   "execution_count": 10,
   "metadata": {},
   "outputs": [
    {
     "data": {
      "text/plain": [
       "a    1\n",
       "b    2\n",
       "c    3\n",
       "d    4\n",
       "e    5\n",
       "dtype: int64"
      ]
     },
     "metadata": {},
     "output_type": "display_data"
    },
    {
     "name": "stdout",
     "output_type": "stream",
     "text": [
      "Applying sliding\n"
     ]
    },
    {
     "data": {
      "text/plain": [
       "4"
      ]
     },
     "metadata": {},
     "output_type": "display_data"
    }
   ],
   "source": [
    "s1 : pd.Series = pd.Series([1,2,3,4,5], index=['a', 'b', 'c', 'd','e'])\n",
    "display(s1)\n",
    "print(\"Applying sliding\")\n",
    "display(s1.at[\"d\"]) #.at is used for String values\n",
    "\n"
   ]
  },
  {
   "cell_type": "code",
   "execution_count": null,
   "metadata": {},
   "outputs": [
    {
     "data": {
      "text/plain": [
       "[('21:41:45', 'Altaf Hussain', 'PIAIC-173738'),\n",
       " ('21:41:54', 'Hina Zargham', 'PIAIC101499'),\n",
       " ('21:41:54', 'Ahmed Siddiqui', 'PIAIC123456'),\n",
       " ('21:42:00', 'Rehan Baig - PIAIC73919', 'PIAIC73919'),\n",
       " ('21:42:03', '.', 'PIAIC210905'),\n",
       " ('21:42:11', 'Arshad Siddiqui', 'PIAIC120702'),\n",
       " ('21:42:13', 'Azfar Suhail', 'PIAIC218333'),\n",
       " ('21:42:20', 'Ayesha Arshad', 'PIAIC-225620'),\n",
       " ('21:42:34', 'Arif Najmi', 'PIAIC 125657'),\n",
       " ('21:42:37', 'Ahmed', 'PIAIC-216511'),\n",
       " ('21:42:46', 'M Qasim', 'PIAIC178397'),\n",
       " ('21:42:59', 'IMRAN', 'PIAIC216423'),\n",
       " ('21:43:04', 'Ahmed', 'PIAIC-216511'),\n",
       " ('21:43:29', 'Zeeshan Abbas', 'PIAIC221479'),\n",
       " ('21:44:12', 'Ahsan', 'PIAIC185091')]"
      ]
     },
     "execution_count": 55,
     "metadata": {},
     "output_type": "execute_result"
    }
   ],
   "source": [
    "x : str = \"\"\"\n",
    "20:03:10 From Dr. Ghulam Shabbir to Everyone:\n",
    "\tAoA Honorable Sir Qasim Sb. Stay blessed always iA.\n",
    "20:03:41 From M Qasim to Everyone:\n",
    "\tsir aj payare lag rahy hy\n",
    "20:04:02 From Dr. Ghulam Shabbir to Everyone:\n",
    "\tFantastic\n",
    "20:04:06 From jhon wick to Qasim(CGAIO)(Direct Message):\n",
    "\tsir aj zia khan sir ne nahi ana\n",
    "20:04:37 From jhon wick to Everyone:\n",
    "\tReacted to \"sir aj payare lag ra...\" with 😂\n",
    "20:04:44 From M Qasim to Everyone:\n",
    "\tReacted to \"sir aj payare lag ra...\" with 😂\n",
    "20:04:54 From M Qasim to Everyone:\n",
    "\tRemoved a 😂 reaction from \"sir aj payare lag ra...\"\n",
    "20:04:56 From M Qasim to Everyone:\n",
    "\tReacted to \"sir aj payare lag ra...\" with 😂\n",
    "20:04:57 From M Qasim to Everyone:\n",
    "\tRemoved a 😂 reaction from \"sir aj payare lag ra...\"\n",
    "20:06:04 From Abdullah to Everyone:\n",
    "\tsir ap kal ki class me ni ayen gy kia??\n",
    "20:06:04 From M Qasim to Everyone:\n",
    "\tSir Faisalabad b a rahy hy kya ap?\n",
    "20:06:49 From Yasir to Everyone:\n",
    "\tSir generative ai ki class online b hogi na?????\n",
    "20:07:17 From Sheikh Hamza to Everyone:\n",
    "\tSir data analytics ke liye maths statistics and probability ani chaye??\n",
    "20:07:24 From Yasir to Everyone:\n",
    "\tReplying to \"Sir generative ai ki...\"\n",
    "\t\n",
    "\t@Ikhlas Bhojani PLease ask from sir?\n",
    "20:07:57 From Ikhlas Bhojani to Everyone:\n",
    "\tReplying to \"Sir generative ai ki...\"\n",
    "\t\n",
    "\tok wait\n",
    "20:08:52 From Dr. Ghulam Shabbir to Everyone:\n",
    "\tSir Qasim Sb. You were frequently discussed and were given honored and salute in our today's class at Islamabad. Dr. Ghulam Shabbir\n",
    "20:09:12 From STONE to Everyone:\n",
    "\tReacted to \"Sir Qasim Sb. You we...\" with 👍\n",
    "20:09:15 From Hatif Humayun to Everyone:\n",
    "\tReacted to \"Sir Qasim Sb. You we...\" with 👍\n",
    "20:09:19 From Dr. Ghulam Shabbir to Everyone:\n",
    "\tReacted to \"Sir Qasim Sb. You we...\" with 👍\n",
    "20:09:27 From STONE to Everyone:\n",
    "\tRemoved a 👍 reaction from \"Sir Qasim Sb. You we...\"\n",
    "20:09:33 From STONE to Everyone:\n",
    "\tReacted to \"Sir Qasim Sb. You we...\" with 👍\n",
    "20:09:34 From STONE to Everyone:\n",
    "\tRemoved a 👍 reaction from \"Sir Qasim Sb. You we...\"\n",
    "20:12:02 From Amanat Wattoo to Everyone:\n",
    "\tPd kia convention h\n",
    "20:12:20 From Amanat Wattoo to Everyone:\n",
    "\tYa koi or be naam de skte hn\n",
    "20:12:33 From farhan to Everyone:\n",
    "\tConvention hey\n",
    "20:12:50 From KifayatUllah to Everyone:\n",
    "\tscreen is not visible to me, may be network issue or something else\n",
    "20:14:16 From Rehan Alı WAKKAS to Everyone:\n",
    "\tImport pandas as pd and import pandora as pa.\n",
    "\tWhat is pd and pa ?\n",
    "20:14:28 From farhan to Everyone:\n",
    "\tJust names\n",
    "20:15:06 From Ikhlas Bhojani to Everyone:\n",
    "\tkoi question ho tw hand raise kriyea jese i moka milega me unmute krdonga\n",
    "20:15:41 From Talha to Everyone:\n",
    "\tReplying to \"Import pandas as pd ...\"\n",
    "\t\n",
    "\tAlias, instead of writing long words pandas and pandora, we can write pd and pa as their short form\n",
    "20:15:45 From Rehan Alı WAKKAS to Everyone:\n",
    "\t@Ikhlas Bhojani  \n",
    "\tImport pandas as pd and import pandora as pa.\n",
    "\tWhat is pd and pa ?\n",
    "20:16:25 From Ikhlas Bhojani to Everyone:\n",
    "\tReplying to \"@Ikhlas Bhojani  \n",
    "\tIm...\"\n",
    "\t\n",
    "\talias\n",
    "20:16:43 From Jazil Hashmi to Everyone:\n",
    "\tImport pandas could not be resolved from source. Why is this error coming? @Ikhlas Bhojani\n",
    "20:16:55 From Ikhlas Bhojani to Everyone:\n",
    "\tReplying to \"@Ikhlas Bhojani  \n",
    "\tIm...\"\n",
    "\t\n",
    "\tlike nick name\n",
    "20:17:36 From Ikhlas Bhojani to Everyone:\n",
    "\t!pip install pandas\n",
    "20:17:46 From Rehan Alı WAKKAS to Everyone:\n",
    "\tReplying to \"@Ikhlas Bhojani  \n",
    "\tIm...\"\n",
    "\t\n",
    "\tDo they refer to Directories or what ?\n",
    "20:19:58 From Abdullah to Everyone:\n",
    "\tPandas is usually imported under the pd alias. alias: In Python alias are an alternate name for referring to the same thing. Create an alias with the as keyword while importing: import pandas as pd. Now the Pandas package can be referred to as pd instead of pandas .\n",
    "20:20:30 From farhan to Everyone:\n",
    "\tThese are nicknames used by community\n",
    "20:25:02 From ahsan rasheed to Everyone:\n",
    "\tMary kush lectures rah gy hain\n",
    "20:25:15 From ahsan rasheed to Everyone:\n",
    "\tKia ya lecture record ho rhy hain\n",
    "20:25:23 From ABDUL KHALIQ to Everyone:\n",
    "\tg\n",
    "20:25:26 From ABDUL KHALIQ to Everyone:\n",
    "\tyoutube\n",
    "20:25:31 From ABDUL KHALIQ to Everyone:\n",
    "\tpanaverse dao\n",
    "20:25:48 From ahsan rasheed to Everyone:\n",
    "\tThanks\n",
    "20:26:30 From Kamran Ahmed to Everyone:\n",
    "\ttabular form in panada\n",
    "20:26:46 From Sarwar Faridi to Everyone:\n",
    "\tTABULAR\n",
    "20:26:54 From Sarwar Faridi to Everyone:\n",
    "\t2D\n",
    "20:26:57 From Kamran Ahmed to Everyone:\n",
    "\tindex value also shown\n",
    "20:27:06 From Ahmed Siddiqui to Everyone:\n",
    "\tmatrix\n",
    "20:27:07 From Kamal Hassan to Everyone:\n",
    "\tseries men indexing h or tabular form mn h\n",
    "20:29:56 From Kaleem to Everyone:\n",
    "\tsir series ma duplicate values bhi dy kar daikhain!!\n",
    "20:35:09 From Zeeshan Abbas to Everyone:\n",
    "\tSir what is INT64\n",
    "20:37:19 From Ikhlas Bhojani to Everyone:\n",
    "\tkoi question he tw hand raise krke rakhen\n",
    "20:37:51 From Zeeshan Abbas to Everyone:\n",
    "\tmera question hai what is INT64\n",
    "20:38:04 From Abdullah to Everyone:\n",
    "\tsmj e ni aya \n",
    "\trepeat krwa dyen\n",
    "20:39:23 From Altaf Hussain to Everyone:\n",
    "\tJust like Chart of accounts in Accounting...\n",
    "20:39:44 From Ahmed Siddiqui to Everyone:\n",
    "\tReacted to \"Just like Chart of a...\" with 👍\n",
    "20:40:40 From hi to Everyone:\n",
    "\twhat is int 64\n",
    "20:40:45 From hi to Everyone:\n",
    "\tdtype: int 64\n",
    "20:40:54 From Zeeshan Abbas to Everyone:\n",
    "\tSir why is showing INT64 in below\n",
    "20:40:58 From Ikhlas Bhojani to Everyone:\n",
    "\tReplying to \"mera question hai wh...\"\n",
    "\t\n",
    "\ttype hoti he data ki\n",
    "20:42:24 From Kaleem to Everyone:\n",
    "\tin our structure data types of data we use key, value /key, pair values to define our data, how to translate that data Series?\n",
    "20:42:27 From Asif Ali Shaikh to Everyone:\n",
    "\tint 64 is memory\n",
    "20:42:44 From Asif Ali Shaikh to Everyone:\n",
    "\tWeb3\n",
    "20:45:11 From Zeeshan Abbas to Everyone:\n",
    "\tReacted to \"Web3\" with 👍\n",
    "20:46:15 From Galaxy to Everyone:\n",
    "\tSir g account udaar dy dy\n",
    "20:46:25 From Galaxy to Everyone:\n",
    "\tReacted to Sir g account udaar ... with \"😂\"\n",
    "20:46:40 From Ayesha Arshad to Everyone:\n",
    "\tReacted to \"Sir g account udaar ...\" with 😂\n",
    "20:46:40 From Ayesha Arshad to Everyone:\n",
    "\tRemoved a 😂 reaction from \"Sir g account udaar ...\"\n",
    "20:46:41 From jhon wick to Everyone:\n",
    "\tReacted to \"Sir g account udaar ...\" with 😂\n",
    "20:46:43 From Ayesha Arshad to Everyone:\n",
    "\tReacted to \"Sir g account udaar ...\" with 😂\n",
    "20:46:54 From Taif Ullah to Everyone:\n",
    "\tis bing equal to gpt 4\n",
    "20:49:29 From fahad rasheed to Everyone:\n",
    "\t2 dimension data hy pora select krna parhyga \"\" mn\n",
    "20:49:29 From Azfar Suhail to Everyone:\n",
    "\tfrom nptyping import DataFrame as DF, Structure as S\n",
    "\t\n",
    "\ts2 : DF[S[\"Abc : str\"]] = pd.Series(['a','b','c','d','e'])\n",
    "\ts2\n",
    "20:49:29 From Azfar Suhail to Everyone:\n",
    "\tthis is working\n",
    "20:51:57 From Saboor Hussain to Everyone:\n",
    "\tReacted to \"Sir g account udaa...\" with 😂\n",
    "20:51:59 From Saboor Hussain to Everyone:\n",
    "\tRemoved a 😂 from \"Sir g account udaa...\"\n",
    "20:58:40 From jhon wick to Everyone:\n",
    "\tyes\n",
    "20:59:04 From farhan to Everyone:\n",
    "\tKindly unmute\n",
    "20:59:22 From Ikhlas Bhojani to Everyone:\n",
    "\tReplying to \"Kindly unmute\"\n",
    "\t\n",
    "\twait\n",
    "21:00:43 From PIAIC80919 Muhammad Asad to Everyone:\n",
    "\tAssalamu Aliakum\n",
    "21:01:33 From Faizan Hassan to Everyone:\n",
    "\ts1.name kar k kar saktay hon ge\n",
    "21:01:43 From PIAIC80919 Muhammad Asad to Everyone:\n",
    "\tI joined late on zoom meet so kindly share links that sir share until now\n",
    "21:02:26 From Taif Ullah to Everyone:\n",
    "\tReplying to \"I joined late on zoo...\"\n",
    "\t\n",
    "\tevery thing will be on github\n",
    "21:04:19 From PIAIC80919 Muhammad Asad to Everyone:\n",
    "\tNumpy aur Pandas kay liya sir nay koi book share ki hai kay nahi\n",
    "21:04:42 From Amanat Wattoo to Everyone:\n",
    "\tReplying to \"Numpy aur Pandas kay...\"\n",
    "\t\n",
    "\tno\n",
    "21:05:21 From PIAIC80919 Muhammad Asad to Everyone:\n",
    "\taur python kay liya koi alag WhatsApp group hai to please uska b link share kardien\n",
    "21:06:00 From Amanat Wattoo to Everyone:\n",
    "\tReplying to \"aur python kay liya ...\"\n",
    "\t\n",
    "\tno koi group nhi bnia h\n",
    "21:07:17 From Abdullah to Everyone:\n",
    "\tupper array wala code knsa ha??\n",
    "21:07:51 From Hamza to Everyone:\n",
    "\t\"Shape\", \"Shape\"\n",
    "21:08:10 From Hamza to Everyone:\n",
    "\t\"Size\", \"Size\"\n",
    "21:08:26 From SheikhMAqib to Everyone:\n",
    "\tDouble coat\n",
    "21:08:33 From Azfar Suhail to Everyone:\n",
    "\tShape turtle se import kara hai\n",
    "21:08:51 From Azfar Suhail to Everyone:\n",
    "\tshape nptyping se import nhi howa\n",
    "21:09:34 From Muhammad Uzair to Everyone:\n",
    "\tshape galat import ha\n",
    "21:09:35 From Khadija Zahid to Everyone:\n",
    "\tshape ko kindly ek br explain kr den dbra\n",
    "21:09:38 From PIAIC80919 Muhammad Asad to Qasim(CGAIO)(Direct Message):\n",
    "\tAssalamu Aliakum Sir Kindly sir mujhe bta dien k Data Science kay liya Math aur Statistic kay kon si books and courses hum karien\n",
    "21:09:50 From Yasir to Everyone:\n",
    "\tshape import\n",
    "21:09:53 From Yasir to Everyone:\n",
    "\tmissing\n",
    "21:09:56 From Muhammad Uzair to Everyone:\n",
    "\tfrom import typing shape\n",
    "21:10:11 From Saboor Hussain to Everyone:\n",
    "\tsir\n",
    "21:10:19 From Saboor Hussain to Everyone:\n",
    "\taap nptyping se shape ko import karen\n",
    "21:10:21 From Yasir to Everyone:\n",
    "\timport nhi kia shape\n",
    "21:10:24 From farhan to Everyone:\n",
    "\tShape import nahi thi\n",
    "21:10:25 From Azfar Suhail to Everyone:\n",
    "\tturtle se import kara hai\n",
    "21:14:10 From sadia to Everyone:\n",
    "\tcan we get values 0 1 2 3 4 5 6 7 8 in vertical, abhi data horizontal arha hai\n",
    "21:18:10 From Faiz M to Everyone:\n",
    "\tSir chezy hard sy hard hoti ja rahe hy. aaj tho sir k oper oper ja raha hy.\n",
    "21:18:56 From Qasim(CGAIO) to Everyone:\n",
    "\thttps://www.w3schools.com/python/pandas/data.js\n",
    "21:19:20 From Khadija Zahid to Everyone:\n",
    "\thtml wala b ek br code dekha k bta de plz\n",
    "21:19:22 From Abdullah to Everyone:\n",
    "\tkindly class k bd groups me sessions ka link send kr dia kryen\n",
    "21:21:27 From Abdullah to Everyone:\n",
    "\tReplying to \"kindly class k bd gr...\"\n",
    "\t\n",
    "\t@Ikhlas Bhojani\n",
    "21:22:11 From Ahmed Siddiqui to Everyone:\n",
    "\twhat if data size in millions, what kind of preprocessing is required before handing over to pandas?\n",
    "21:22:41 From Ikhlas Bhojani to Everyone:\n",
    "\tReplying to \"kindly class k bd gr...\"\n",
    "\t\n",
    "\tme ap logo ke group me nhi hn\n",
    "21:22:59 From Abdullah to Everyone:\n",
    "\tReplying to \"kindly class k bd gr...\"\n",
    "\t\n",
    "\tbro sir sy kah dyen \n",
    "\tya sir Imran sy request kr dyen\n",
    "21:24:13 From Ikhlas Bhojani to Everyone:\n",
    "\tReplying to \"html wala b ek br co...\"\n",
    "\t\n",
    "\tpd.read_html(\"url\")\n",
    "21:26:02 From Kaleem to Everyone:\n",
    "\thow to make identical data ?\n",
    "21:26:19 From Afifa Dar to Everyone:\n",
    "\tcolmn3 k chexk me ==2 se kya horaha ?\n",
    "21:29:40 From PIAIC80919 Muhammad Asad to Qasim(CGAIO)(Direct Message):\n",
    "\tsir assignment b day dein practice kay liya\n",
    "21:32:29 From Ali Zar FSD to Everyone:\n",
    "\tsliding\n",
    "21:32:41 From Ali Zar FSD to Everyone:\n",
    "\tlikha gya sir\n",
    "21:33:00 From fahad rasheed to Everyone:\n",
    "\tsir thora data large kryn plx\n",
    "21:33:18 From fahad rasheed to Everyone:\n",
    "\tfor slicing thora data bardhae\n",
    "21:39:55 From raheela to Everyone:\n",
    "\tName is tort ???\n",
    "21:40:46 From Naveed Delattre to Everyone:\n",
    "\tit’s toad\n",
    "21:41:45 From Altaf Hussain to Everyone:\n",
    "\tPIAIC-173738\n",
    "21:41:51 From Hamza to Everyone:\n",
    "\tPIAIC-201785\n",
    "21:41:52 From jhon wick to Everyone:\n",
    "\tpiaic 223880\n",
    "21:41:54 From Hina Zargham to Everyone:\n",
    "\tPIAIC101499\n",
    "21:41:54 From Hatif Humayun to Everyone:\n",
    "\tPIAIC-52822\n",
    "21:41:54 From Ahmed Siddiqui to Everyone:\n",
    "\tPIAIC123456\n",
    "21:41:56 From Arif Najmi to Everyone:\n",
    "\t125657\n",
    "21:42:00 From Rehan Baig - PIAIC73919 to Everyone:\n",
    "\tPIAIC73919\n",
    "21:42:00 From STONE to Everyone:\n",
    "\tZAM - 786\n",
    "21:42:01 From M. Waheed Iqbal (PIAIC_126369) to Everyone:\n",
    "\tPIAIC_126369\n",
    "21:42:03 From . to Everyone:\n",
    "\tPIAIC210905\n",
    "21:42:06 From ABDUL KHALIQ to Everyone:\n",
    "\tPIAIC-604031\n",
    "21:42:11 From Arshad Siddiqui to Everyone:\n",
    "\tPIAIC120702\n",
    "21:42:13 From Ali Zar FSD to Everyone:\n",
    "\tPIaic 223972\n",
    "21:42:13 From Azfar Suhail to Everyone:\n",
    "\tPIAIC218333\n",
    "21:42:14 From Kamran Ahmed to Everyone:\n",
    "\tPIAIC139495\n",
    "21:42:18 From Ahmed to Everyone:\n",
    "\t216511\n",
    "21:42:20 From Ayesha Arshad to Everyone:\n",
    "\tPIAIC-225620\n",
    "21:42:25 From Kamal Hassan to Everyone:\n",
    "\tPIAIC58320\n",
    "21:42:29 From Ahmed to Everyone:\n",
    "\tPIAIC-2165111\n",
    "21:42:30 From Kaleem to Everyone:\n",
    "\tPIAIC:001100\n",
    "21:42:34 From Arif Najmi to Everyone:\n",
    "\tPIAIC 125657\n",
    "21:42:35 From Yasir to Everyone:\n",
    "\tPIAIC63502\n",
    "21:42:37 From Ahmed to Everyone:\n",
    "\tPIAIC-216511\n",
    "21:42:41 From Ali to Everyone:\n",
    "\tPIAIC76588\n",
    "21:42:46 From M Qasim to Everyone:\n",
    "\tPIAIC178397\n",
    "21:42:55 From Dr. Ghulam Shabbir to Everyone:\n",
    "\tPIAIC208889\n",
    "21:42:59 From IMRAN to Everyone:\n",
    "\tPIAIC216423\n",
    "21:43:04 From PIAIC80919 Muhammad Asad to Qasim(CGAIO)(Direct Message):\n",
    "\tPIAIC80919\n",
    "21:43:04 From Ahmed to Everyone:\n",
    "\tPIAIC-216511\n",
    "21:43:16 From Kamal Hassan to Everyone:\n",
    "\tPIAIC,58321\n",
    "21:43:29 From Zeeshan Abbas to Everyone:\n",
    "\tPIAIC221479\n",
    "21:43:43 From Amanat Wattoo to Everyone:\n",
    "\tPIAIC174651\n",
    "21:44:12 From Ahsan to Everyone:\n",
    "\tPIAIC185091\n",
    "21:44:26 From Amanat Wattoo to Everyone:\n",
    "\t@Ikhlas Bhojani bhai chat ko save kaisy save krwia h\n",
    "21:45:09 From Ikhlas Bhojani to Everyone:\n",
    "\tReplying to \"@Ikhlas Bhojani bhai...\"\n",
    "\t\n",
    "\tneeche three dot se\n",
    "21:46:20 From Ikhlas Bhojani to Everyone:\n",
    "\tReplying to \"@Ikhlas Bhojani bhai...\"\n",
    "\t\n",
    "\tJahan msg likhte hen uske neeche three dot he\n",
    "21:46:30 From Amanat Wattoo to Everyone:\n",
    "\tReplying to \"@Ikhlas Bhojani bhai...\"\n",
    "\t\n",
    "\tok find thanks\n",
    "21:47:27 From Amanat Wattoo to Everyone:\n",
    "\tReplying to \"@Ikhlas Bhojani bhai...\"\n",
    "\t\n",
    "\tfound\n",
    "\n",
    "\n",
    "\"\"\"\n",
    "\n",
    "import re \n",
    "\n",
    "patterns : str = r'''\n",
    "(\\d{2}:\\d{2}:\\d{2}) From (.*) to Everyone:\n",
    "\t(PIAIC-? ?\\d{5,6})\n",
    "'''\n",
    "\n",
    "data : list[list[str]] = re.findall(patterns, x)\n",
    "\n",
    "data"
   ]
  },
  {
   "cell_type": "code",
   "execution_count": null,
   "metadata": {},
   "outputs": [
    {
     "data": {
      "text/html": [
       "<div>\n",
       "<style scoped>\n",
       "    .dataframe tbody tr th:only-of-type {\n",
       "        vertical-align: middle;\n",
       "    }\n",
       "\n",
       "    .dataframe tbody tr th {\n",
       "        vertical-align: top;\n",
       "    }\n",
       "\n",
       "    .dataframe thead th {\n",
       "        text-align: right;\n",
       "    }\n",
       "</style>\n",
       "<table border=\"1\" class=\"dataframe\">\n",
       "  <thead>\n",
       "    <tr style=\"text-align: right;\">\n",
       "      <th></th>\n",
       "      <th>Time</th>\n",
       "      <th>Name</th>\n",
       "      <th>Roll_No.</th>\n",
       "    </tr>\n",
       "  </thead>\n",
       "  <tbody>\n",
       "    <tr>\n",
       "      <th>0</th>\n",
       "      <td>21:41:45</td>\n",
       "      <td>Altaf Hussain</td>\n",
       "      <td>PIAIC-173738</td>\n",
       "    </tr>\n",
       "    <tr>\n",
       "      <th>1</th>\n",
       "      <td>21:41:54</td>\n",
       "      <td>Hina Zargham</td>\n",
       "      <td>PIAIC101499</td>\n",
       "    </tr>\n",
       "    <tr>\n",
       "      <th>2</th>\n",
       "      <td>21:41:54</td>\n",
       "      <td>Ahmed Siddiqui</td>\n",
       "      <td>PIAIC123456</td>\n",
       "    </tr>\n",
       "    <tr>\n",
       "      <th>3</th>\n",
       "      <td>21:42:00</td>\n",
       "      <td>Rehan Baig - PIAIC73919</td>\n",
       "      <td>PIAIC73919</td>\n",
       "    </tr>\n",
       "    <tr>\n",
       "      <th>4</th>\n",
       "      <td>21:42:03</td>\n",
       "      <td>.</td>\n",
       "      <td>PIAIC210905</td>\n",
       "    </tr>\n",
       "    <tr>\n",
       "      <th>5</th>\n",
       "      <td>21:42:11</td>\n",
       "      <td>Arshad Siddiqui</td>\n",
       "      <td>PIAIC120702</td>\n",
       "    </tr>\n",
       "    <tr>\n",
       "      <th>6</th>\n",
       "      <td>21:42:13</td>\n",
       "      <td>Azfar Suhail</td>\n",
       "      <td>PIAIC218333</td>\n",
       "    </tr>\n",
       "    <tr>\n",
       "      <th>7</th>\n",
       "      <td>21:42:20</td>\n",
       "      <td>Ayesha Arshad</td>\n",
       "      <td>PIAIC-225620</td>\n",
       "    </tr>\n",
       "    <tr>\n",
       "      <th>8</th>\n",
       "      <td>21:42:34</td>\n",
       "      <td>Arif Najmi</td>\n",
       "      <td>PIAIC 125657</td>\n",
       "    </tr>\n",
       "    <tr>\n",
       "      <th>9</th>\n",
       "      <td>21:42:37</td>\n",
       "      <td>Ahmed</td>\n",
       "      <td>PIAIC-216511</td>\n",
       "    </tr>\n",
       "    <tr>\n",
       "      <th>10</th>\n",
       "      <td>21:42:46</td>\n",
       "      <td>M Qasim</td>\n",
       "      <td>PIAIC178397</td>\n",
       "    </tr>\n",
       "    <tr>\n",
       "      <th>11</th>\n",
       "      <td>21:42:59</td>\n",
       "      <td>IMRAN</td>\n",
       "      <td>PIAIC216423</td>\n",
       "    </tr>\n",
       "    <tr>\n",
       "      <th>12</th>\n",
       "      <td>21:43:04</td>\n",
       "      <td>Ahmed</td>\n",
       "      <td>PIAIC-216511</td>\n",
       "    </tr>\n",
       "    <tr>\n",
       "      <th>13</th>\n",
       "      <td>21:43:29</td>\n",
       "      <td>Zeeshan Abbas</td>\n",
       "      <td>PIAIC221479</td>\n",
       "    </tr>\n",
       "    <tr>\n",
       "      <th>14</th>\n",
       "      <td>21:44:12</td>\n",
       "      <td>Ahsan</td>\n",
       "      <td>PIAIC185091</td>\n",
       "    </tr>\n",
       "  </tbody>\n",
       "</table>\n",
       "</div>"
      ],
      "text/plain": [
       "        Time                     Name      Roll_No.\n",
       "0   21:41:45            Altaf Hussain  PIAIC-173738\n",
       "1   21:41:54             Hina Zargham   PIAIC101499\n",
       "2   21:41:54           Ahmed Siddiqui   PIAIC123456\n",
       "3   21:42:00  Rehan Baig - PIAIC73919    PIAIC73919\n",
       "4   21:42:03                        .   PIAIC210905\n",
       "5   21:42:11          Arshad Siddiqui   PIAIC120702\n",
       "6   21:42:13             Azfar Suhail   PIAIC218333\n",
       "7   21:42:20            Ayesha Arshad  PIAIC-225620\n",
       "8   21:42:34               Arif Najmi  PIAIC 125657\n",
       "9   21:42:37                    Ahmed  PIAIC-216511\n",
       "10  21:42:46                  M Qasim   PIAIC178397\n",
       "11  21:42:59                    IMRAN   PIAIC216423\n",
       "12  21:43:04                    Ahmed  PIAIC-216511\n",
       "13  21:43:29            Zeeshan Abbas   PIAIC221479\n",
       "14  21:44:12                    Ahsan   PIAIC185091"
      ]
     },
     "execution_count": 56,
     "metadata": {},
     "output_type": "execute_result"
    }
   ],
   "source": [
    "dff : pd.DataFrame = pd.DataFrame(data,columns=[\"Time\",\"Name\",\"Roll_No.\"])\n",
    "dff"
   ]
  },
  {
   "cell_type": "code",
   "execution_count": null,
   "metadata": {},
   "outputs": [],
   "source": []
  }
 ],
 "metadata": {
  "kernelspec": {
   "display_name": "python12",
   "language": "python",
   "name": "python3"
  },
  "language_info": {
   "codemirror_mode": {
    "name": "ipython",
    "version": 3
   },
   "file_extension": ".py",
   "mimetype": "text/x-python",
   "name": "python",
   "nbconvert_exporter": "python",
   "pygments_lexer": "ipython3",
   "version": "3.12.0"
  }
 },
 "nbformat": 4,
 "nbformat_minor": 2
}
