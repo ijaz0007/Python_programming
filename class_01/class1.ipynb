{
 "cells": [
  {
   "cell_type": "code",
   "execution_count": 12,
   "metadata": {},
   "outputs": [
    {
     "name": "stdout",
     "output_type": "stream",
     "text": [
      "Pakistan\n"
     ]
    }
   ],
   "source": [
    "print(\"Pakistan\")"
   ]
  },
  {
   "cell_type": "code",
   "execution_count": 13,
   "metadata": {},
   "outputs": [
    {
     "name": "stdout",
     "output_type": "stream",
     "text": [
      "Hello Wrold\n"
     ]
    }
   ],
   "source": [
    "print(\"Hello Wrold\")"
   ]
  },
  {
   "cell_type": "code",
   "execution_count": 14,
   "metadata": {},
   "outputs": [
    {
     "name": "stdout",
     "output_type": "stream",
     "text": [
      "Pakistan\n",
      "Zinda bad\n",
      "Zinda bad\n",
      "Zinda bad\n"
     ]
    }
   ],
   "source": [
    "print(\"Pakistan\") # 2 sec\n",
    "print(\"Zinda bad\") # the benefit of coding in chunks of jupyter\n",
    "print(\"Zinda bad\")\n",
    "print(\"Zinda bad\")"
   ]
  },
  {
   "cell_type": "code",
   "execution_count": 15,
   "metadata": {},
   "outputs": [
    {
     "name": "stdout",
     "output_type": "stream",
     "text": [
      "Ijaz Ahmad\n",
      "1989085543280\n",
      "<class 'str'>\n",
      "['capitalize', 'casefold', 'center', 'count', 'encode', 'endswith', 'expandtabs', 'find', 'format', 'format_map', 'index', 'isalnum', 'isalpha', 'isascii', 'isdecimal', 'isdigit', 'isidentifier', 'islower', 'isnumeric', 'isprintable', 'isspace', 'istitle', 'isupper', 'join', 'ljust', 'lower', 'lstrip', 'maketrans', 'partition', 'removeprefix', 'removesuffix', 'replace', 'rfind', 'rindex', 'rjust', 'rpartition', 'rsplit', 'rstrip', 'split', 'splitlines', 'startswith', 'strip', 'swapcase', 'title', 'translate', 'upper', 'zfill']\n"
     ]
    }
   ],
   "source": [
    "name=\"Ijaz Ahmad\"\n",
    "print(name)\n",
    "print(id(name))\n",
    "print(type(name))\n",
    "print([i for i in dir(name) if \"__\" not in i])"
   ]
  },
  {
   "cell_type": "code",
   "execution_count": 16,
   "metadata": {},
   "outputs": [
    {
     "name": "stdout",
     "output_type": "stream",
     "text": [
      "700\n",
      "<class 'int'>\n",
      "1989085059824\n"
     ]
    }
   ],
   "source": [
    "name = \"Muhammad Qasim\"\n",
    "name = 700\n",
    "print(name) # print\n",
    "print(type(name)) # type\n",
    "print(id(name)) # physcial address"
   ]
  },
  {
   "cell_type": "code",
   "execution_count": 17,
   "metadata": {},
   "outputs": [
    {
     "name": "stdout",
     "output_type": "stream",
     "text": [
      "700\n",
      "<class 'int'>\n",
      "1989085060144\n"
     ]
    },
    {
     "data": {
      "text/plain": [
       "['as_integer_ratio',\n",
       " 'bit_count',\n",
       " 'bit_length',\n",
       " 'conjugate',\n",
       " 'denominator',\n",
       " 'from_bytes',\n",
       " 'imag',\n",
       " 'is_integer',\n",
       " 'numerator',\n",
       " 'real',\n",
       " 'to_bytes']"
      ]
     },
     "metadata": {},
     "output_type": "display_data"
    }
   ],
   "source": [
    "name:str = \"Muhammad Qasim\"\n",
    "name = 700\n",
    "print(name) # print\n",
    "print(type(name)) # type\n",
    "print(id(name)) # physcial address\n",
    "display([i for i in dir(name) if \"__\" not in i]) #methods and attributes"
   ]
  },
  {
   "cell_type": "code",
   "execution_count": 18,
   "metadata": {},
   "outputs": [
    {
     "name": "stdout",
     "output_type": "stream",
     "text": [
      "6.7\n",
      "1989085060528\n",
      "<class 'float'>\n",
      "['as_integer_ratio', 'conjugate', 'fromhex', 'hex', 'imag', 'is_integer', 'real']\n"
     ]
    }
   ],
   "source": [
    "name:float=6.7\n",
    "print(name)\n",
    "print(id(name))\n",
    "print(type(name))\n",
    "print([i for i in dir(name) if \"__\" not in i])"
   ]
  },
  {
   "cell_type": "code",
   "execution_count": 19,
   "metadata": {},
   "outputs": [
    {
     "name": "stdout",
     "output_type": "stream",
     "text": [
      "True\n",
      "<class 'bool'>\n",
      "140712805075664\n",
      "['as_integer_ratio', 'bit_count', 'bit_length', 'conjugate', 'denominator', 'from_bytes', 'imag', 'is_integer', 'numerator', 'real', 'to_bytes']\n"
     ]
    }
   ],
   "source": [
    "name:bool=True\n",
    "print(name) # print\n",
    "print(type(name)) # type\n",
    "print(id(name)) # physcial address\n",
    "print([i for i in dir(name) if \"__\" not in i])"
   ]
  },
  {
   "cell_type": "code",
   "execution_count": 20,
   "metadata": {},
   "outputs": [
    {
     "name": "stdout",
     "output_type": "stream",
     "text": [
      "['a', 'b', 'c']\n",
      "<class 'list'>\n",
      "1989085531840\n",
      "['append', 'clear', 'copy', 'count', 'extend', 'index', 'insert', 'pop', 'remove', 'reverse', 'sort']\n"
     ]
    }
   ],
   "source": [
    "name:list[str]=[\"a\",\"b\",\"c\"]\n",
    "print(name) # print\n",
    "print(type(name)) # type\n",
    "print(id(name)) # physcial address\n",
    "print([i for i in dir(name) if \"__\" not in i])"
   ]
  },
  {
   "cell_type": "code",
   "execution_count": 21,
   "metadata": {},
   "outputs": [
    {
     "name": "stdout",
     "output_type": "stream",
     "text": [
      "('pakistan', 3, 3.3)\n",
      "<class 'tuple'>\n",
      "1989085453312\n",
      "['count', 'index']\n"
     ]
    }
   ],
   "source": [
    "name : tuple[str,int,float] = (\"pakistan\",3,3.3)\n",
    "print(name) # print\n",
    "print(type(name)) # type\n",
    "print(id(name)) # physcial address\n",
    "print([i for i in dir(name) if \"__\" not in i])"
   ]
  },
  {
   "cell_type": "code",
   "execution_count": 22,
   "metadata": {},
   "outputs": [
    {
     "name": "stdout",
     "output_type": "stream",
     "text": [
      "('Pakistan', 7, 'Zinda Bad')\n",
      "<class 'tuple'>\n",
      "1989085449984\n",
      "['count', 'index']\n"
     ]
    }
   ],
   "source": [
    "name : tuple[str,int,float] = (\"Pakistan\",7,\"Zinda Bad\")\n",
    "print(name) # print\n",
    "print(type(name)) # type\n",
    "print(id(name)) # physcial address\n",
    "print([i for i in dir(name) if \"__\" not in i]) "
   ]
  }
 ],
 "metadata": {
  "kernelspec": {
   "display_name": "python12",
   "language": "python",
   "name": "python3"
  },
  "language_info": {
   "codemirror_mode": {
    "name": "ipython",
    "version": 3
   },
   "file_extension": ".py",
   "mimetype": "text/x-python",
   "name": "python",
   "nbconvert_exporter": "python",
   "pygments_lexer": "ipython3",
   "version": "3.12.0"
  }
 },
 "nbformat": 4,
 "nbformat_minor": 2
}
