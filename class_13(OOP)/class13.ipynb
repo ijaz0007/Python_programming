{
 "cells": [
  {
   "cell_type": "code",
   "execution_count": 26,
   "metadata": {},
   "outputs": [],
   "source": [
    "def obj1_speak():pass\n",
    "def obj2_speak():pass\n",
    "\n",
    "obj1_name : str = \"Sir Zia\"\n",
    "obj2_name : str = \"Muhammad Qasim\""
   ]
  },
  {
   "cell_type": "markdown",
   "metadata": {},
   "source": [
    "# OOP (Object Oriented Programming)"
   ]
  },
  {
   "cell_type": "markdown",
   "metadata": {},
   "source": [
    "* Class\n",
    "    * method\n",
    "\n",
    "        * first argument must be additional variable (self, this, or anything else)\n",
    "    * attribute\n",
    "\n",
    "        * connect with individual object\n",
    "    * class variables\n",
    "\n",
    "* constructor\n",
    "\n",
    "        * def __init__(self,arg1, arg2)\n",
    "* Class variable\n",
    "\n",
    "        * this value use for all objects\n",
    "        * methods for calling class_variables\n",
    "            * 1)ClassName.class_vriable\n",
    "            * 2) class ClassName():\n",
    " ```   class_variable1 : type = Value```"
   ]
  },
  {
   "cell_type": "markdown",
   "metadata": {},
   "source": [
    "# Syntax of class"
   ]
  },
  {
   "cell_type": "markdown",
   "metadata": {},
   "source": [
    "class ClassName():\n",
    "    pass"
   ]
  },
  {
   "cell_type": "code",
   "execution_count": 27,
   "metadata": {},
   "outputs": [],
   "source": [
    "class Teacher():\n",
    "    def __init__(self,teacher_id : int,teacher_name : str) -> None:\n",
    "        self.name :str = teacher_name\n",
    "        self.teacher_id : int = teacher_id\n",
    "        self.organization_name : str =\"PIAIC\"\n",
    "    def speak(self,words : str)->None:\n",
    "        print(f\"{self.name} is speaking {words}\")\n",
    "    \n",
    "    def teaching(self,subject : str)->None:\n",
    "        print(f\"{self.name} is teaching {subject}!\")"
   ]
  },
  {
   "cell_type": "code",
   "execution_count": 28,
   "metadata": {},
   "outputs": [],
   "source": [
    "obj1 : Teacher = Teacher(1,\"John\")\n",
    "obj2 : Teacher = Teacher(2,\"Anil\")"
   ]
  },
  {
   "cell_type": "code",
   "execution_count": 29,
   "metadata": {},
   "outputs": [
    {
     "name": "stdout",
     "output_type": "stream",
     "text": [
      "John\n",
      "1\n",
      "PIAIC\n",
      "Anil\n",
      "2\n",
      "PIAIC\n"
     ]
    }
   ],
   "source": [
    "print(obj1.name)\n",
    "print(obj1.teacher_id)\n",
    "print(obj1.organization_name)\n",
    "\n",
    "\n",
    "\n",
    "print(obj2.name)\n",
    "print(obj2.teacher_id)\n",
    "print(obj2.organization_name)"
   ]
  },
  {
   "cell_type": "code",
   "execution_count": 39,
   "metadata": {},
   "outputs": [
    {
     "name": "stdout",
     "output_type": "stream",
     "text": [
      "Elbert is teaching Generative AI\n",
      "Einstein is teaching Deep Learning\n",
      "Elbert is speaking Urdu\n",
      "Elbert is speaking Pashto\n"
     ]
    }
   ],
   "source": [
    "obj1.teaching(\"Generative AI\")\n",
    "obj2.teaching(\"Deep Learning\")\n",
    "obj1.speak(\"Urdu\")\n",
    "obj1.speak(\"Pashto\")"
   ]
  },
  {
   "cell_type": "code",
   "execution_count": 31,
   "metadata": {},
   "outputs": [
    {
     "data": {
      "text/plain": [
       "['__class__',\n",
       " '__delattr__',\n",
       " '__dict__',\n",
       " '__dir__',\n",
       " '__doc__',\n",
       " '__eq__',\n",
       " '__format__',\n",
       " '__ge__',\n",
       " '__getattribute__',\n",
       " '__getstate__',\n",
       " '__gt__',\n",
       " '__hash__',\n",
       " '__init__',\n",
       " '__init_subclass__',\n",
       " '__le__',\n",
       " '__lt__',\n",
       " '__module__',\n",
       " '__ne__',\n",
       " '__new__',\n",
       " '__reduce__',\n",
       " '__reduce_ex__',\n",
       " '__repr__',\n",
       " '__setattr__',\n",
       " '__sizeof__',\n",
       " '__str__',\n",
       " '__subclasshook__',\n",
       " '__weakref__',\n",
       " 'name',\n",
       " 'organization_name',\n",
       " 'speak',\n",
       " 'teacher_id',\n",
       " 'teaching']"
      ]
     },
     "execution_count": 31,
     "metadata": {},
     "output_type": "execute_result"
    }
   ],
   "source": [
    "dir(obj1)"
   ]
  },
  {
   "cell_type": "code",
   "execution_count": 32,
   "metadata": {},
   "outputs": [],
   "source": [
    "class Teacher():\n",
    "    def __init__(this, teacher_id : int , teacher_name : str) -> None: # method/constructor\n",
    "        this.name : str = teacher_name\n",
    "        this.teacher_id = teacher_id\n",
    "        this.organization_name = \"PIAIC\"\n",
    "\n",
    "\n",
    "    def speak(this, words : str )->None: # method\n",
    "        print(f\"{this.name} is speaking {words}\")\n",
    "    \n",
    "    def teaching(this, subject : str )->None: # method\n",
    "        print(f\"{this.name} is teaching {subject}...!\")\n",
    "\n",
    "\n",
    "obj1 : Teacher = Teacher(1,\"Sir Zia Khan\")\n",
    "obj2 : Teacher = Teacher(2, \"Muhammad Qasim\")"
   ]
  },
  {
   "cell_type": "markdown",
   "metadata": {},
   "source": [
    "# Class Variable\n",
    "  "
   ]
  },
  {
   "cell_type": "markdown",
   "metadata": {},
   "source": [
    " * Class variable\n",
    "    * this value use for all objects\n",
    "        * ClassName.class_variable\n",
    "        * object_name.class_variable\n",
    "class ClassName():\n",
    "    class_variable1 : type = Value"
   ]
  },
  {
   "cell_type": "code",
   "execution_count": 33,
   "metadata": {},
   "outputs": [],
   "source": [
    "class Teacher():\n",
    "    counter : int = 0\n",
    "    help_line : str = \"0312658556\"\n",
    "    def __init__(self,teacher_id : int, teacher_name : str) -> None:\n",
    "        self.tid : int = teacher_id\n",
    "        self.name : str = teacher_name\n",
    "        self.organization_name : str = \"PIAIC\"\n",
    "        Teacher.counter += 1\n",
    "    def speak(self,words : str )->None:\n",
    "        print(f\"{self.name} is speaking {words}\")\n",
    "    def teaching(self, subject : str)->None:\n",
    "        print(f\"{self.name} is teaching {subject}\")\n",
    "    def details(self)->None:\n",
    "        information : str = f'''\n",
    "        Teacher name is {self.name} \n",
    "        our help_line number is {Teacher.help_line}'''\n",
    "        print(information)\n",
    "obj1 : Teacher = Teacher(1,\"Elbert\")\n",
    "obj2 : Teacher = Teacher(2,\"Einstein\")"
   ]
  },
  {
   "cell_type": "code",
   "execution_count": 34,
   "metadata": {},
   "outputs": [
    {
     "name": "stdout",
     "output_type": "stream",
     "text": [
      "2\n",
      "2\n",
      "2\n"
     ]
    }
   ],
   "source": [
    "print(Teacher.counter)\n",
    "print(obj1.counter)\n",
    "print(obj2.counter)"
   ]
  },
  {
   "cell_type": "code",
   "execution_count": 35,
   "metadata": {},
   "outputs": [
    {
     "name": "stdout",
     "output_type": "stream",
     "text": [
      "0312658556\n",
      "0312658556\n",
      "0312658556\n"
     ]
    }
   ],
   "source": [
    "print(Teacher.help_line)\n",
    "print(obj1.help_line)\n",
    "print(obj2.help_line)"
   ]
  },
  {
   "cell_type": "code",
   "execution_count": 36,
   "metadata": {},
   "outputs": [
    {
     "name": "stdout",
     "output_type": "stream",
     "text": [
      "\n",
      "        Teacher name is Elbert \n",
      "        our help_line number is 0312658556\n"
     ]
    }
   ],
   "source": [
    "obj1.details()\n",
    "\n"
   ]
  },
  {
   "cell_type": "code",
   "execution_count": 37,
   "metadata": {},
   "outputs": [
    {
     "name": "stdout",
     "output_type": "stream",
     "text": [
      "\n",
      "        Teacher name is Einstein \n",
      "        our help_line number is 0312658556\n"
     ]
    }
   ],
   "source": [
    "obj2.details()"
   ]
  },
  {
   "cell_type": "markdown",
   "metadata": {},
   "source": [
    "# 1. Inheritance\n",
    "```\n",
    "class ChileClass(ParentClass):\n",
    "    pass\n",
    "```"
   ]
  },
  {
   "cell_type": "code",
   "execution_count": 11,
   "metadata": {},
   "outputs": [
    {
     "name": "stdout",
     "output_type": "stream",
     "text": [
      "Brown\n",
      "Black\n",
      "Parent method speak: PIAIC is the best\n",
      "Your are watching: Python class lecture\n",
      "======Child object=======\n",
      "Brown\n",
      "Black\n",
      "Parent method speak: PIAIC is the best\n",
      "Your are watching: Python class lecture\n"
     ]
    }
   ],
   "source": [
    "class Parents():\n",
    "    def __init__(self) -> None:\n",
    "        self.eye_color : str = \"Brown\"\n",
    "        self.hair_color : str = \"Black\"\n",
    "    def speak(self, words : str )->None:\n",
    "        print(f\"Parent method speak: {words}\")\n",
    "    def watching(self, object_name : str )->None:\n",
    "        print(f\"Your are watching: {object_name}\")\n",
    "\n",
    "class Child(Parents):\n",
    "    pass\n",
    "\n",
    "obj1 : Parents = Parents()  #it will inherit here only parents class methods and attributes\n",
    "print(obj1.eye_color)\n",
    "print(obj1.hair_color)\n",
    "obj1.speak(\"PIAIC is the best\")\n",
    "obj1.watching(\"Python class lecture\")\n",
    "\n",
    "print(\"======Child object=======\")\n",
    "### Child object \n",
    "\n",
    "obj2 : Child = Child() # it will inherit here only child class methods and attributes\n",
    "print(obj2.eye_color)\n",
    "print(obj2.hair_color)\n",
    "obj2.speak(\"PIAIC is the best\")\n",
    "obj2.watching(\"Python class lecture\")\n"
   ]
  },
  {
   "cell_type": "code",
   "execution_count": 13,
   "metadata": {},
   "outputs": [
    {
     "name": "stdout",
     "output_type": "stream",
     "text": [
      "Brown\n",
      "Black\n",
      "Parent method speak: PIAIC is the best\n",
      "Your are watching: Python class lecture\n",
      "======Child object=======\n",
      "Brown\n",
      "Black\n",
      "Parent method speak: PIAIC is the best\n",
      "Your are watching: Python class lecture\n",
      "Child method for teaching Generative AI\n"
     ]
    }
   ],
   "source": [
    "class Parents():\n",
    "    def __init__(self) -> None:\n",
    "        self.eye_color : str = \"Brown\"\n",
    "        self.hair_color : str = \"Black\"\n",
    "    def speak(self, words : str )->None:\n",
    "        print(f\"Parent method speak: {words}\")\n",
    "    def watching(self, object_name : str )->None:\n",
    "        print(f\"Your are watching: {object_name}\")\n",
    "\n",
    "class Child(Parents):\n",
    "    def teaching(self ,subject : str )->None:\n",
    "        print(f\"Child method for teaching {subject}\")\n",
    "\n",
    "obj1 : Parents = Parents()  #it will inherit here only parents class methods and attributes\n",
    "print(obj1.eye_color)\n",
    "print(obj1.hair_color)\n",
    "obj1.speak(\"PIAIC is the best\")\n",
    "obj1.watching(\"Python class lecture\")\n",
    "\n",
    "print(\"======Child object=======\")\n",
    "### Child object \n",
    "\n",
    "obj2 : Child = Child() # it will inherit here only child class methods and attributes\n",
    "print(obj2.eye_color)\n",
    "print(obj2.hair_color)\n",
    "obj2.speak(\"PIAIC is the best\")\n",
    "obj2.watching(\"Python class lecture\")\n",
    "obj2.teaching(\"Generative AI\")"
   ]
  },
  {
   "cell_type": "code",
   "execution_count": 15,
   "metadata": {},
   "outputs": [
    {
     "name": "stdout",
     "output_type": "stream",
     "text": [
      "Brown\n",
      "Black\n",
      "Parent method speak: PIAIC is the best\n",
      "Your are watching: Python class lecture\n"
     ]
    },
    {
     "ename": "AttributeError",
     "evalue": "'Parents' object has no attribute 'teaching'",
     "output_type": "error",
     "traceback": [
      "\u001b[1;31m---------------------------------------------------------------------------\u001b[0m",
      "\u001b[1;31mAttributeError\u001b[0m                            Traceback (most recent call last)",
      "Cell \u001b[1;32mIn[15], line 19\u001b[0m\n\u001b[0;32m     17\u001b[0m obj1\u001b[38;5;241m.\u001b[39mspeak(\u001b[38;5;124m\"\u001b[39m\u001b[38;5;124mPIAIC is the best\u001b[39m\u001b[38;5;124m\"\u001b[39m)\n\u001b[0;32m     18\u001b[0m obj1\u001b[38;5;241m.\u001b[39mwatching(\u001b[38;5;124m\"\u001b[39m\u001b[38;5;124mPython class lecture\u001b[39m\u001b[38;5;124m\"\u001b[39m)\n\u001b[1;32m---> 19\u001b[0m \u001b[43mobj1\u001b[49m\u001b[38;5;241;43m.\u001b[39;49m\u001b[43mteaching\u001b[49m(\u001b[38;5;124m\"\u001b[39m\u001b[38;5;124mGenerative AI\u001b[39m\u001b[38;5;124m\"\u001b[39m) \u001b[38;5;66;03m# it will not work with parent class b/c its only in child class\u001b[39;00m\n\u001b[0;32m     20\u001b[0m \u001b[38;5;28mprint\u001b[39m(\u001b[38;5;124m\"\u001b[39m\u001b[38;5;124m======Child object=======\u001b[39m\u001b[38;5;124m\"\u001b[39m)\n\u001b[0;32m     21\u001b[0m \u001b[38;5;66;03m### Child object \u001b[39;00m\n",
      "\u001b[1;31mAttributeError\u001b[0m: 'Parents' object has no attribute 'teaching'"
     ]
    }
   ],
   "source": [
    "class Parents():\n",
    "    def __init__(self) -> None:\n",
    "        self.eye_color : str = \"Brown\"\n",
    "        self.hair_color : str = \"Black\"\n",
    "    def speak(self, words : str )->None:\n",
    "        print(f\"Parent method speak: {words}\")\n",
    "    def watching(self, object_name : str )->None:\n",
    "        print(f\"Your are watching: {object_name}\")\n",
    "\n",
    "class Child(Parents):\n",
    "    def teaching(self ,subject : str )->None:\n",
    "        print(f\"Child method for teaching {subject}\")\n",
    "\n",
    "obj1 : Parents = Parents()  #it will inherit here only parents class methods and attributes\n",
    "print(obj1.eye_color)\n",
    "print(obj1.hair_color)\n",
    "obj1.speak(\"PIAIC is the best\")\n",
    "obj1.watching(\"Python class lecture\")\n",
    "obj1.teaching(\"Generative AI\") # it will not work with parent class b/c its only in child class & error will happen\n",
    "print(\"======Child object=======\")\n",
    "### Child object \n",
    "\n",
    "obj2 : Child = Child() # it will inherit here only child class methods and attributes\n",
    "print(obj2.eye_color)\n",
    "print(obj2.hair_color)\n",
    "obj2.speak(\"PIAIC is the best\")\n",
    "obj2.watching(\"Python class lecture\")\n",
    "obj2.teaching(\"Generative AI\")"
   ]
  },
  {
   "cell_type": "code",
   "execution_count": 21,
   "metadata": {},
   "outputs": [
    {
     "name": "stdout",
     "output_type": "stream",
     "text": [
      "Animation Artist ijaz ahmad\n",
      "['Python'] John Doe\n"
     ]
    }
   ],
   "source": [
    "from typing import List\n",
    "class Employee():\n",
    "    def __init__(self, name : str ) -> None:\n",
    "        self.nm : str = name\n",
    "        self.education : str = \"\"\n",
    "        self.department : str = \"\"\n",
    "    \n",
    "class Designer(Employee):\n",
    "    def __init__(self, title : str, name: str ) -> None:\n",
    "        super().__init__(name)\n",
    "        self.ttl : str = title\n",
    "\n",
    "class Developer(Employee):\n",
    "    def __init__(self, title : str, name: str) -> None:\n",
    "        super().__init__(name)\n",
    "        self.ttl : str = title\n",
    "        self.programming_skils : List[str] = [\"Python\"]\n",
    "\n",
    "designer : Designer = Designer(\"Animation Artist\",\"ijaz ahmad\")\n",
    "dev1 : Developer = Developer(\"GenAI Engineer\", \"John Doe\")\n",
    "print(designer.ttl,designer.nm)\n",
    "print(dev1.programming_skils,dev1.nm)\n",
    "\n",
    "\n"
   ]
  }
 ],
 "metadata": {
  "kernelspec": {
   "display_name": "python12",
   "language": "python",
   "name": "python3"
  },
  "language_info": {
   "codemirror_mode": {
    "name": "ipython",
    "version": 3
   },
   "file_extension": ".py",
   "mimetype": "text/x-python",
   "name": "python",
   "nbconvert_exporter": "python",
   "pygments_lexer": "ipython3",
   "version": "3.12.0"
  }
 },
 "nbformat": 4,
 "nbformat_minor": 2
}
